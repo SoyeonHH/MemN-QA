{
 "cells": [
  {
   "cell_type": "markdown",
   "id": "indirect-jordan",
   "metadata": {},
   "source": [
    "# Question Answwering, QA"
   ]
  },
  {
   "cell_type": "markdown",
   "id": "willing-canvas",
   "metadata": {},
   "source": [
    "* 개요 : 페이스북에서 공개한 Babi QA 셋을 메모리 네트워크를 통해 풀어보고, BERT를 이용하여 MRC(기계 독해 이해력) 테스트인 스쿼드(SQuAD, Stanford Question Answering Dataset)를 풀어본다.\n",
    "\n",
    "* 출처 : WikiDocs, <딥 러닝을 이용한 자연어 처리 입문>, https://wikidocs.net/82475"
   ]
  },
  {
   "cell_type": "markdown",
   "id": "radio-alaska",
   "metadata": {},
   "source": [
    "## 메모리 네트워크"
   ]
  },
  {
   "cell_type": "markdown",
   "id": "thermal-tackle",
   "metadata": {},
   "source": [
    "Input : 스토리 문장(Value, Key), 질문 문장(Query)\n",
    "\n",
    "Embedding : 문장 내 각 단어가 임베딩 되어 각 단어가 임베딩 벡터로 변환\n",
    "\n",
    "스토리 문장 표현 : 내적(dot product)을 통해, 임베딩된 Query는 Key와 유사도를 구하고, 소프트맥스 함수를 통해 값을 정규화하여 Value에 더해서 유사도 값을 반영 (어텐션 매커니즘)\n",
    "\n",
    "연결(Concatenate) : 스토리 문장 표현을 질문 문장을 임베딩한 질문 표현과 연결하고, LSTM과 밀집층(dense layer)의 입력으로 사용하여 정답 예측"
   ]
  },
  {
   "cell_type": "markdown",
   "id": "commercial-swimming",
   "metadata": {},
   "source": [
    "## Babi 데이터셋 전처리"
   ]
  },
  {
   "cell_type": "markdown",
   "id": "particular-perry",
   "metadata": {},
   "source": [
    "* Babi 데이터셋 : https://research.fb.com/downloads/babi/"
   ]
  },
  {
   "cell_type": "code",
   "execution_count": 1,
   "id": "digital-albert",
   "metadata": {},
   "outputs": [],
   "source": [
    "from tensorflow.keras.utils import get_file\n",
    "from tensorflow.keras.preprocessing.sequence import pad_sequences\n",
    "from tensorflow.keras.utils import to_categorical\n",
    "import numpy as np\n",
    "import tarfile\n",
    "from nltk import FreqDist\n",
    "from functools import reduce\n",
    "import os\n",
    "import re\n",
    "import matplotlib.pyplot as plt"
   ]
  },
  {
   "cell_type": "code",
   "execution_count": 2,
   "id": "appreciated-governor",
   "metadata": {},
   "outputs": [],
   "source": [
    "path = get_file('babi-tasks-v1-2.tar.gz', origin='https://s3.amazonaws.com/text-datasets/'\n",
    "                'babi_tasks_1-20_v1-2.tar.gz')"
   ]
  },
  {
   "cell_type": "code",
   "execution_count": 3,
   "id": "controversial-accessory",
   "metadata": {},
   "outputs": [],
   "source": [
    " with tarfile.open(path) as tar:\n",
    "    tar.extractall()\n",
    "    tar.close()\n",
    "\n",
    "DATA_DIR = 'tasks_1-20_v1-2/en-10k'\n",
    "TRAIN_FILE = os.path.join(DATA_DIR, \"qa1_single-supporting-fact_train.txt\")\n",
    "TEST_FILE = os.path.join(DATA_DIR, \"qa1_single-supporting-fact_test.txt\")"
   ]
  },
  {
   "cell_type": "code",
   "execution_count": 4,
   "id": "italic-luther",
   "metadata": {},
   "outputs": [
    {
     "name": "stdout",
     "output_type": "stream",
     "text": [
      "1 Mary moved to the bathroom.\n",
      "2 John went to the hallway.\n",
      "3 Where is Mary? \tbathroom\t1\n",
      "4 Daniel went back to the hallway.\n",
      "5 Sandra moved to the garden.\n",
      "6 Where is Daniel? \thallway\t4\n",
      "7 John moved to the office.\n",
      "8 Sandra journeyed to the bathroom.\n",
      "9 Where is Daniel? \thallway\t4\n",
      "10 Mary moved to the hallway.\n",
      "11 Daniel travelled to the office.\n",
      "12 Where is Daniel? \toffice\t11\n",
      "13 John went back to the garden.\n",
      "14 John moved to the bedroom.\n",
      "15 Where is Sandra? \tbathroom\t8\n",
      "1 Sandra travelled to the office.\n",
      "2 Sandra went to the bathroom.\n",
      "3 Where is Sandra? \tbathroom\t2\n",
      "4 Mary went to the bedroom.\n",
      "5 Daniel moved to the hallway.\n"
     ]
    }
   ],
   "source": [
    "i = 0\n",
    "lines = open(TRAIN_FILE , \"rb\")\n",
    "for line in lines:\n",
    "    line = line.decode(\"utf-8\").strip()  # .strip() : 문자열에서 양 쪽 공백 제거\n",
    "    # lno, text = line.split(\" \", 1) # ID와 TEXT 분리\n",
    "    i = i + 1\n",
    "    print(line)\n",
    "    if i == 20:\n",
    "        break"
   ]
  },
  {
   "cell_type": "code",
   "execution_count": 6,
   "id": "twelve-washer",
   "metadata": {},
   "outputs": [],
   "source": [
    "def read_data(dir):\n",
    "    stories, questions, answers = [], [], [] # 각각 스토리, 질문, 답변을 저장할 예정\n",
    "    story_temp = [] # 현재 시점의 스토리 임시 저장\n",
    "    lines = open(dir, \"rb\")\n",
    "\n",
    "    for line in lines:\n",
    "        line = line.decode(\"utf-8\") # b' 제거\n",
    "        line = line.strip() # '\\n' 제거\n",
    "        idx, text = line.split(\" \", 1) # 맨 앞에 있는 id number 분리\n",
    "        # 여기까지는 모든 줄에 적용되는 전처리\n",
    "\n",
    "        if int(idx) == 1:\n",
    "            story_temp = []\n",
    "\n",
    "        if \"\\t\" in text: # 현재 읽는 줄이 질문 (tab) 답변 (tab)인 경우\n",
    "            question, answer, _ = text.split(\"\\t\") # 질문과 답변을 각각 저장\n",
    "            stories.append([x for x in story_temp if x]) # 지금까지의 누적 스토리를 스토리에 저장\n",
    "            questions.append(question)\n",
    "            answers.append(answer)\n",
    "\n",
    "        else: # 현재 읽는 줄이 스토리인 경우\n",
    "            story_temp.append(text) # 임시 저장\n",
    "\n",
    "    lines.close()\n",
    "    return stories, questions, answers"
   ]
  },
  {
   "cell_type": "code",
   "execution_count": 7,
   "id": "german-preservation",
   "metadata": {},
   "outputs": [],
   "source": [
    "train_data = read_data(TRAIN_FILE)\n",
    "test_data = read_data(TEST_FILE)"
   ]
  },
  {
   "cell_type": "code",
   "execution_count": 8,
   "id": "fabulous-fleet",
   "metadata": {},
   "outputs": [],
   "source": [
    "train_stories, train_questions, train_answers = read_data(TRAIN_FILE)\n",
    "test_stories, test_questions, test_answers = read_data(TEST_FILE)"
   ]
  },
  {
   "cell_type": "code",
   "execution_count": 9,
   "id": "consolidated-community",
   "metadata": {},
   "outputs": [
    {
     "name": "stdout",
     "output_type": "stream",
     "text": [
      "훈련용 스토리의 개수 : 10000\n",
      "훈련용 질문의 개수 : 10000\n",
      "훈련용 답변의 개수 : 10000\n",
      "테스트용 스토리의 개수 : 1000\n",
      "테스트용 질문의 개수 : 1000\n",
      "테스트용 답변의 개수 : 1000\n"
     ]
    }
   ],
   "source": [
    "print('훈련용 스토리의 개수 :', len(train_stories))\n",
    "print('훈련용 질문의 개수 :',len(train_questions))\n",
    "print('훈련용 답변의 개수 :',len(train_answers))\n",
    "print('테스트용 스토리의 개수 :',len(test_stories))\n",
    "print('테스트용 질문의 개수 :',len(test_questions))\n",
    "print('테스트용 답변의 개수 :',len(test_answers))"
   ]
  },
  {
   "cell_type": "code",
   "execution_count": 10,
   "id": "corrected-determination",
   "metadata": {},
   "outputs": [
    {
     "data": {
      "text/plain": [
       "['John went back to the garden.',\n",
       " 'Mary went to the kitchen.',\n",
       " 'Sandra went back to the bedroom.',\n",
       " 'John travelled to the bedroom.']"
      ]
     },
     "execution_count": 10,
     "metadata": {},
     "output_type": "execute_result"
    }
   ],
   "source": [
    "train_stories[3576]"
   ]
  },
  {
   "cell_type": "code",
   "execution_count": 11,
   "id": "cutting-armenia",
   "metadata": {},
   "outputs": [
    {
     "data": {
      "text/plain": [
       "'Where is John? '"
      ]
     },
     "execution_count": 11,
     "metadata": {},
     "output_type": "execute_result"
    }
   ],
   "source": [
    "train_questions[3576]"
   ]
  },
  {
   "cell_type": "code",
   "execution_count": 12,
   "id": "numerous-architect",
   "metadata": {},
   "outputs": [
    {
     "data": {
      "text/plain": [
       "'bedroom'"
      ]
     },
     "execution_count": 12,
     "metadata": {},
     "output_type": "execute_result"
    }
   ],
   "source": [
    "train_answers[3576]"
   ]
  },
  {
   "cell_type": "code",
   "execution_count": 69,
   "id": "personal-knife",
   "metadata": {},
   "outputs": [],
   "source": [
    "def tokenize(sent):\n",
    "    return [ x.strip() for x in re.split('(\\W+)', sent) if x.strip()]"
   ]
  },
  {
   "cell_type": "code",
   "execution_count": 70,
   "id": "automatic-virtue",
   "metadata": {},
   "outputs": [],
   "source": [
    "def preprocess_data(train_data, test_data):\n",
    "    counter = FreqDist()\n",
    "\n",
    "    # 두 문장의 story를 하나의 문장으로 통합하는 함수\n",
    "    flatten = lambda data: reduce(lambda x, y: x + y, data)\n",
    "\n",
    "    # 각 샘플의 길이를 저장하는 리스트\n",
    "    story_len = []\n",
    "    question_len = []\n",
    "\n",
    "    for stories, questions, answers in [train_data, test_data]:\n",
    "        for story in stories:\n",
    "            stories = tokenize(flatten(story)) # 스토리의 문장들을 펼친 후 토큰화\n",
    "            story_len.append(len(stories)) # 각 story의 길이 저장\n",
    "            for word in stories: # 단어 집합에 단어 추가\n",
    "                counter[word] += 1\n",
    "        for question in questions:\n",
    "            question = tokenize(question)\n",
    "            question_len.append(len(question))\n",
    "            for word in question:\n",
    "                counter[word] += 1\n",
    "        for answer in answers:\n",
    "            answer = tokenize(answer)\n",
    "            for word in answer:\n",
    "                counter[word] += 1\n",
    "\n",
    "    # 단어 집합 생성\n",
    "    word2idx = {word : (idx + 1) for idx, (word, _) in enumerate(counter.most_common())}\n",
    "    idx2word = {idx : word for word, idx in word2idx.items()}\n",
    "\n",
    "    # 가장 긴 샘플의 길이\n",
    "    story_max_len = np.max(story_len)\n",
    "    question_max_len = np.max(question_len)\n",
    "\n",
    "    return word2idx, idx2word, story_max_len, question_max_len"
   ]
  },
  {
   "cell_type": "code",
   "execution_count": 71,
   "id": "proved-couple",
   "metadata": {},
   "outputs": [],
   "source": [
    "word2idx, idx2word, story_max_len, question_max_len = preprocess_data(train_data, test_data)"
   ]
  },
  {
   "cell_type": "code",
   "execution_count": 72,
   "id": "criminal-collar",
   "metadata": {},
   "outputs": [
    {
     "name": "stdout",
     "output_type": "stream",
     "text": [
      "{'to': 1, 'the': 2, '.': 3, 'went': 4, 'Sandra': 5, 'John': 6, 'Daniel': 7, 'Mary': 8, 'travelled': 9, 'journeyed': 10, 'back': 11, 'bathroom': 12, 'garden': 13, 'hallway': 14, 'moved': 15, 'office': 16, 'kitchen': 17, 'bedroom': 18, 'Where': 19, 'is': 20, '?': 21}\n"
     ]
    }
   ],
   "source": [
    "print(word2idx)"
   ]
  },
  {
   "cell_type": "code",
   "execution_count": 73,
   "id": "joined-territory",
   "metadata": {},
   "outputs": [],
   "source": [
    "vocab_size = len(word2idx) + 1"
   ]
  },
  {
   "cell_type": "code",
   "execution_count": 74,
   "id": "warming-mills",
   "metadata": {},
   "outputs": [
    {
     "name": "stdout",
     "output_type": "stream",
     "text": [
      "스토리의 최대 길이 : 68\n",
      "질문의 최대 길이 : 4\n"
     ]
    }
   ],
   "source": [
    "print('스토리의 최대 길이 :',story_max_len)\n",
    "print('질문의 최대 길이 :',question_max_len)"
   ]
  },
  {
   "cell_type": "code",
   "execution_count": 75,
   "id": "broadband-tender",
   "metadata": {},
   "outputs": [],
   "source": [
    "def vectorize(data, word2idx, story_maxlen, question_maxlen):\n",
    "    Xs, Xq, Y = [], [], []\n",
    "    flatten = lambda data: reduce(lambda x, y: x + y, data)\n",
    "\n",
    "    stories, questions, answers = data\n",
    "    for story, question, answer in zip(stories, questions, answers):\n",
    "        xs = [word2idx[w] for w in tokenize(flatten(story))]\n",
    "        xq = [word2idx[w] for w in tokenize(question)]\n",
    "        Xs.append(xs)\n",
    "        Xq.append(xq)\n",
    "        Y.append(word2idx[answer])\n",
    "\n",
    "        # 스토리와 질문은 각각의 최대 길이로 패딩\n",
    "        # 정답은 원-핫 인코딩\n",
    "    return pad_sequences(Xs, maxlen=story_maxlen),\\\n",
    "           pad_sequences(Xq, maxlen=question_maxlen),\\\n",
    "           to_categorical(Y, num_classes=len(word2idx) + 1)"
   ]
  },
  {
   "cell_type": "code",
   "execution_count": 76,
   "id": "celtic-profile",
   "metadata": {},
   "outputs": [],
   "source": [
    "Xstrain, Xqtrain, Ytrain = vectorize(train_data, word2idx, story_max_len, question_max_len)\n",
    "Xstest, Xqtest, Ytest = vectorize(test_data, word2idx, story_max_len, question_max_len)"
   ]
  },
  {
   "cell_type": "code",
   "execution_count": 77,
   "id": "french-hundred",
   "metadata": {},
   "outputs": [
    {
     "name": "stdout",
     "output_type": "stream",
     "text": [
      "(10000, 68) (10000, 4) (10000, 22) (1000, 68) (1000, 4) (1000, 22)\n"
     ]
    }
   ],
   "source": [
    "print(Xstrain.shape, Xqtrain.shape, Ytrain.shape, Xstest.shape, Xqtest.shape, Ytest.shape)"
   ]
  },
  {
   "cell_type": "markdown",
   "id": "surface-zambia",
   "metadata": {},
   "source": [
    "## 메모리 네트워크로 QA 풀기"
   ]
  },
  {
   "cell_type": "code",
   "execution_count": 78,
   "id": "drawn-plumbing",
   "metadata": {},
   "outputs": [],
   "source": [
    "from tensorflow.keras.models import Sequential, Model\n",
    "from tensorflow.keras.layers import Embedding\n",
    "from tensorflow.keras.layers import Permute, dot, add, concatenate\n",
    "from tensorflow.keras.layers import LSTM, Dense, Dropout, Input, Activation"
   ]
  },
  {
   "cell_type": "code",
   "execution_count": 79,
   "id": "minus-parameter",
   "metadata": {},
   "outputs": [],
   "source": [
    "# 에포크 횟수\n",
    "train_epochs = 120\n",
    "# 배치 크기\n",
    "batch_size = 32\n",
    "# 임베딩 크기\n",
    "embed_size = 50\n",
    "# LSTM의 크기\n",
    "lstm_size = 64\n",
    "# 과적합 방지 기법인 드롭아웃 적용 비율\n",
    "dropout_rate = 0.30"
   ]
  },
  {
   "cell_type": "code",
   "execution_count": 80,
   "id": "cellular-manchester",
   "metadata": {},
   "outputs": [
    {
     "name": "stdout",
     "output_type": "stream",
     "text": [
      "Stories : KerasTensor(type_spec=TensorSpec(shape=(None, 68), dtype=tf.float32, name='input_1'), name='input_1', description=\"created by layer 'input_1'\")\n",
      "Question: KerasTensor(type_spec=TensorSpec(shape=(None, 4), dtype=tf.float32, name='input_2'), name='input_2', description=\"created by layer 'input_2'\")\n"
     ]
    }
   ],
   "source": [
    "# 플레이스 홀더. 입력을 담는 변수\n",
    "input_sequence = Input((story_max_len,))\n",
    "question = Input((question_max_len,))\n",
    "\n",
    "print('Stories :', input_sequence)\n",
    "print('Question:', question)"
   ]
  },
  {
   "cell_type": "code",
   "execution_count": 81,
   "id": "foster-story",
   "metadata": {},
   "outputs": [],
   "source": [
    "# 스토리를 위한 첫번째 임베딩. 그림에서의 Embedding A\n",
    "input_encoder_m = Sequential()\n",
    "input_encoder_m.add(Embedding(input_dim=vocab_size,\n",
    "                              output_dim=embed_size))\n",
    "input_encoder_m.add(Dropout(dropout_rate))\n",
    "# 결과 : (samples, story_max_len, embedding_dim) / 샘플의 수, 문장의 최대 길이, 임베딩 벡터의 차원\n",
    "\n",
    "# 스토리를 위한 두번째 임베딩. 그림에서의 Embedding C\n",
    "# 임베딩 벡터의 차원을 question_max_len(질문의 최대 길이)로 한다.\n",
    "input_encoder_c = Sequential()\n",
    "input_encoder_c.add(Embedding(input_dim=vocab_size,\n",
    "                              output_dim=question_max_len))\n",
    "input_encoder_c.add(Dropout(dropout_rate))\n",
    "# 결과 : (samples, story_max_len, question_max_len) / 샘플의 수, 문장의 최대 길이, 질문의 최대 길이(임베딩 벡터의 차원)"
   ]
  },
  {
   "cell_type": "code",
   "execution_count": 82,
   "id": "fundamental-share",
   "metadata": {},
   "outputs": [],
   "source": [
    "# 질문을 위한 임베딩. 그림에서의 Embedding B\n",
    "question_encoder = Sequential()\n",
    "question_encoder.add(Embedding(input_dim=vocab_size,\n",
    "                               output_dim=embed_size,\n",
    "                               input_length=question_max_len))\n",
    "question_encoder.add(Dropout(dropout_rate))\n",
    "# 결과 : (samples, question_max_len, embedding_dim) / 샘플의 수, 질문의 최대 길이, 임베딩 벡터의 차원"
   ]
  },
  {
   "cell_type": "code",
   "execution_count": 83,
   "id": "green-alias",
   "metadata": {},
   "outputs": [
    {
     "name": "stdout",
     "output_type": "stream",
     "text": [
      "Input encoded m KerasTensor(type_spec=TensorSpec(shape=(None, 68, 50), dtype=tf.float32, name=None), name='sequential/dropout/Identity:0', description=\"created by layer 'sequential'\")\n",
      "Input encoded c KerasTensor(type_spec=TensorSpec(shape=(None, 68, 4), dtype=tf.float32, name=None), name='sequential_1/dropout_1/Identity:0', description=\"created by layer 'sequential_1'\")\n",
      "Question encoded KerasTensor(type_spec=TensorSpec(shape=(None, 4, 50), dtype=tf.float32, name=None), name='sequential_2/dropout_2/Identity:0', description=\"created by layer 'sequential_2'\")\n"
     ]
    }
   ],
   "source": [
    "# 실질적인 임베딩 과정\n",
    "input_encoded_m = input_encoder_m(input_sequence)\n",
    "input_encoded_c = input_encoder_c(input_sequence)\n",
    "question_encoded = question_encoder(question)\n",
    "\n",
    "print('Input encoded m', input_encoded_m)\n",
    "print('Input encoded c', input_encoded_c)\n",
    "print('Question encoded', question_encoded)"
   ]
  },
  {
   "cell_type": "code",
   "execution_count": 84,
   "id": "iraqi-burden",
   "metadata": {},
   "outputs": [
    {
     "name": "stdout",
     "output_type": "stream",
     "text": [
      "Match shape KerasTensor(type_spec=TensorSpec(shape=(None, 68, 4), dtype=tf.float32, name=None), name='activation/truediv:0', description=\"created by layer 'activation'\")\n",
      "Response shape KerasTensor(type_spec=TensorSpec(shape=(None, 4, 68), dtype=tf.float32, name=None), name='permute/transpose:0', description=\"created by layer 'permute'\")\n",
      "Answer shape KerasTensor(type_spec=TensorSpec(shape=(None, 4, 118), dtype=tf.float32, name=None), name='concatenate/concat:0', description=\"created by layer 'concatenate'\")\n"
     ]
    }
   ],
   "source": [
    "# 스토리 단어들과 질문 단어들 간의 유사도를 구하는 과정\n",
    "# 유사도는 내적을 사용한다.\n",
    "match = dot([input_encoded_m, question_encoded], axes=-1, normalize=False)\n",
    "match = Activation('softmax')(match)\n",
    "print('Match shape', match)\n",
    "# 결과 : (samples, story_maxlen, question_max_len) / 샘플의 수, 문장의 최대 길이, 질문의 최대 길이\n",
    "\n",
    "# add the match matrix with the second input vector sequence\n",
    "response = add([match, input_encoded_c])  # (samples, story_max_len, question_max_len)\n",
    "response = Permute((2, 1))(response)  # (samples, question_max_len, story_max_len)\n",
    "print('Response shape', response)\n",
    "\n",
    "# concatenate the response vector with the question vector sequence\n",
    "answer = concatenate([response, question_encoded])\n",
    "print('Answer shape', answer)\n",
    "\n",
    "answer = LSTM(lstm_size)(answer)  # Generate tensors of shape 32\n",
    "answer = Dropout(dropout_rate)(answer)\n",
    "answer = Dense(vocab_size)(answer)  # (samples, vocab_size)\n",
    "# we output a probability distribution over the vocabulary\n",
    "answer = Activation('softmax')(answer)"
   ]
  },
  {
   "cell_type": "code",
   "execution_count": 85,
   "id": "ordinary-triple",
   "metadata": {},
   "outputs": [
    {
     "name": "stdout",
     "output_type": "stream",
     "text": [
      "Model: \"model\"\n",
      "__________________________________________________________________________________________________\n",
      "Layer (type)                    Output Shape         Param #     Connected to                     \n",
      "==================================================================================================\n",
      "input_1 (InputLayer)            [(None, 68)]         0                                            \n",
      "__________________________________________________________________________________________________\n",
      "input_2 (InputLayer)            [(None, 4)]          0                                            \n",
      "__________________________________________________________________________________________________\n",
      "sequential (Sequential)         (None, None, 50)     1100        input_1[0][0]                    \n",
      "__________________________________________________________________________________________________\n",
      "sequential_2 (Sequential)       (None, 4, 50)        1100        input_2[0][0]                    \n",
      "__________________________________________________________________________________________________\n",
      "dot (Dot)                       (None, 68, 4)        0           sequential[0][0]                 \n",
      "                                                                 sequential_2[0][0]               \n",
      "__________________________________________________________________________________________________\n",
      "activation (Activation)         (None, 68, 4)        0           dot[0][0]                        \n",
      "__________________________________________________________________________________________________\n",
      "sequential_1 (Sequential)       (None, None, 4)      88          input_1[0][0]                    \n",
      "__________________________________________________________________________________________________\n",
      "add (Add)                       (None, 68, 4)        0           activation[0][0]                 \n",
      "                                                                 sequential_1[0][0]               \n",
      "__________________________________________________________________________________________________\n",
      "permute (Permute)               (None, 4, 68)        0           add[0][0]                        \n",
      "__________________________________________________________________________________________________\n",
      "concatenate (Concatenate)       (None, 4, 118)       0           permute[0][0]                    \n",
      "                                                                 sequential_2[0][0]               \n",
      "__________________________________________________________________________________________________\n",
      "lstm (LSTM)                     (None, 64)           46848       concatenate[0][0]                \n",
      "__________________________________________________________________________________________________\n",
      "dropout_3 (Dropout)             (None, 64)           0           lstm[0][0]                       \n",
      "__________________________________________________________________________________________________\n",
      "dense (Dense)                   (None, 22)           1430        dropout_3[0][0]                  \n",
      "__________________________________________________________________________________________________\n",
      "activation_1 (Activation)       (None, 22)           0           dense[0][0]                      \n",
      "==================================================================================================\n",
      "Total params: 50,566\n",
      "Trainable params: 50,566\n",
      "Non-trainable params: 0\n",
      "__________________________________________________________________________________________________\n",
      "None\n",
      "Epoch 1/120\n",
      "313/313 [==============================] - 6s 9ms/step - loss: 2.0135 - acc: 0.1540 - val_loss: 1.7778 - val_acc: 0.1870\n",
      "Epoch 2/120\n",
      "313/313 [==============================] - 2s 6ms/step - loss: 1.7262 - acc: 0.2446 - val_loss: 1.6487 - val_acc: 0.3290\n",
      "Epoch 3/120\n",
      "313/313 [==============================] - 2s 6ms/step - loss: 1.5708 - acc: 0.3666 - val_loss: 1.4865 - val_acc: 0.4020\n",
      "Epoch 4/120\n",
      "313/313 [==============================] - 2s 6ms/step - loss: 1.4981 - acc: 0.4108 - val_loss: 1.4565 - val_acc: 0.4420\n",
      "Epoch 5/120\n",
      "313/313 [==============================] - 2s 6ms/step - loss: 1.4776 - acc: 0.4266 - val_loss: 1.3919 - val_acc: 0.4940\n",
      "Epoch 6/120\n",
      "313/313 [==============================] - 2s 6ms/step - loss: 1.3942 - acc: 0.4777 - val_loss: 1.3265 - val_acc: 0.4990\n",
      "Epoch 7/120\n",
      "313/313 [==============================] - 2s 7ms/step - loss: 1.3649 - acc: 0.4833 - val_loss: 1.3270 - val_acc: 0.5070\n",
      "Epoch 8/120\n",
      "313/313 [==============================] - 2s 7ms/step - loss: 1.3190 - acc: 0.5059 - val_loss: 1.2789 - val_acc: 0.5180\n",
      "Epoch 9/120\n",
      "313/313 [==============================] - 2s 6ms/step - loss: 1.3055 - acc: 0.5101 - val_loss: 1.2793 - val_acc: 0.5110\n",
      "Epoch 10/120\n",
      "313/313 [==============================] - 2s 6ms/step - loss: 1.2819 - acc: 0.5056 - val_loss: 1.2430 - val_acc: 0.5220\n",
      "Epoch 11/120\n",
      "313/313 [==============================] - 2s 6ms/step - loss: 1.2577 - acc: 0.5114 - val_loss: 1.1977 - val_acc: 0.5200\n",
      "Epoch 12/120\n",
      "313/313 [==============================] - 2s 6ms/step - loss: 1.2320 - acc: 0.5067 - val_loss: 1.1966 - val_acc: 0.5080\n",
      "Epoch 13/120\n",
      "313/313 [==============================] - 2s 6ms/step - loss: 1.2207 - acc: 0.5068 - val_loss: 1.1876 - val_acc: 0.5100\n",
      "Epoch 14/120\n",
      "313/313 [==============================] - 2s 6ms/step - loss: 1.1853 - acc: 0.5256 - val_loss: 1.1703 - val_acc: 0.5190\n",
      "Epoch 15/120\n",
      "313/313 [==============================] - 2s 6ms/step - loss: 1.1831 - acc: 0.5175 - val_loss: 1.1805 - val_acc: 0.5170\n",
      "Epoch 16/120\n",
      "313/313 [==============================] - 2s 7ms/step - loss: 1.1551 - acc: 0.5261 - val_loss: 1.1575 - val_acc: 0.5200\n",
      "Epoch 17/120\n",
      "313/313 [==============================] - 2s 6ms/step - loss: 1.1470 - acc: 0.5217 - val_loss: 1.1715 - val_acc: 0.5010\n",
      "Epoch 18/120\n",
      "313/313 [==============================] - 2s 6ms/step - loss: 1.1400 - acc: 0.5352 - val_loss: 1.1496 - val_acc: 0.5110\n",
      "Epoch 19/120\n",
      "313/313 [==============================] - 2s 7ms/step - loss: 1.1362 - acc: 0.5355 - val_loss: 1.1556 - val_acc: 0.5080\n",
      "Epoch 20/120\n",
      "313/313 [==============================] - 2s 6ms/step - loss: 1.1427 - acc: 0.5313 - val_loss: 1.1651 - val_acc: 0.5200\n",
      "Epoch 21/120\n",
      "313/313 [==============================] - 2s 6ms/step - loss: 1.1249 - acc: 0.5409 - val_loss: 1.1503 - val_acc: 0.5270\n",
      "Epoch 22/120\n",
      "313/313 [==============================] - 2s 6ms/step - loss: 1.1069 - acc: 0.5369 - val_loss: 1.1440 - val_acc: 0.5090\n",
      "Epoch 23/120\n",
      "313/313 [==============================] - 2s 6ms/step - loss: 1.1130 - acc: 0.5253 - val_loss: 1.1573 - val_acc: 0.5080\n",
      "Epoch 24/120\n",
      "313/313 [==============================] - 2s 6ms/step - loss: 1.1003 - acc: 0.5383 - val_loss: 1.1304 - val_acc: 0.5050\n",
      "Epoch 25/120\n",
      "313/313 [==============================] - 2s 6ms/step - loss: 1.0973 - acc: 0.5427 - val_loss: 1.1516 - val_acc: 0.5240\n",
      "Epoch 26/120\n",
      "313/313 [==============================] - 2s 6ms/step - loss: 1.0861 - acc: 0.5481 - val_loss: 1.1406 - val_acc: 0.5020\n",
      "Epoch 27/120\n",
      "313/313 [==============================] - 2s 6ms/step - loss: 1.0879 - acc: 0.5382 - val_loss: 1.1419 - val_acc: 0.5120\n",
      "Epoch 28/120\n",
      "313/313 [==============================] - 2s 6ms/step - loss: 1.0813 - acc: 0.5507 - val_loss: 1.1665 - val_acc: 0.5150\n",
      "Epoch 29/120\n",
      "313/313 [==============================] - 2s 6ms/step - loss: 1.0648 - acc: 0.5501 - val_loss: 1.1549 - val_acc: 0.5160\n",
      "Epoch 30/120\n",
      "313/313 [==============================] - 2s 6ms/step - loss: 1.0604 - acc: 0.5478 - val_loss: 1.1602 - val_acc: 0.5170\n",
      "Epoch 31/120\n",
      "313/313 [==============================] - 2s 6ms/step - loss: 1.0604 - acc: 0.5458 - val_loss: 1.1539 - val_acc: 0.5100\n",
      "Epoch 32/120\n",
      "313/313 [==============================] - 2s 6ms/step - loss: 1.0430 - acc: 0.5542 - val_loss: 1.1345 - val_acc: 0.5220\n",
      "Epoch 33/120\n",
      "313/313 [==============================] - 2s 6ms/step - loss: 1.0447 - acc: 0.5630 - val_loss: 1.1229 - val_acc: 0.5150\n",
      "Epoch 34/120\n",
      "313/313 [==============================] - 2s 6ms/step - loss: 1.0094 - acc: 0.5727 - val_loss: 1.0618 - val_acc: 0.5700\n",
      "Epoch 35/120\n",
      "313/313 [==============================] - 2s 6ms/step - loss: 0.9227 - acc: 0.6342 - val_loss: 0.8214 - val_acc: 0.7080\n",
      "Epoch 36/120\n",
      "313/313 [==============================] - 2s 6ms/step - loss: 0.7133 - acc: 0.7479 - val_loss: 0.6747 - val_acc: 0.7440\n",
      "Epoch 37/120\n",
      "313/313 [==============================] - 2s 6ms/step - loss: 0.6205 - acc: 0.7770 - val_loss: 0.6340 - val_acc: 0.7630\n",
      "Epoch 38/120\n",
      "313/313 [==============================] - 2s 6ms/step - loss: 0.5419 - acc: 0.8003 - val_loss: 0.5727 - val_acc: 0.7720\n",
      "Epoch 39/120\n",
      "313/313 [==============================] - 2s 6ms/step - loss: 0.5253 - acc: 0.8049 - val_loss: 0.4964 - val_acc: 0.8020\n",
      "Epoch 40/120\n",
      "313/313 [==============================] - 2s 6ms/step - loss: 0.4385 - acc: 0.8442 - val_loss: 0.4464 - val_acc: 0.8330\n",
      "Epoch 41/120\n",
      "313/313 [==============================] - 2s 6ms/step - loss: 0.3843 - acc: 0.8605 - val_loss: 0.4170 - val_acc: 0.8400\n",
      "Epoch 42/120\n",
      "313/313 [==============================] - 2s 6ms/step - loss: 0.3701 - acc: 0.8663 - val_loss: 0.3912 - val_acc: 0.8530\n",
      "Epoch 43/120\n",
      "313/313 [==============================] - 2s 7ms/step - loss: 0.3392 - acc: 0.8739 - val_loss: 0.3769 - val_acc: 0.8520\n",
      "Epoch 44/120\n",
      "313/313 [==============================] - 2s 6ms/step - loss: 0.3200 - acc: 0.8835 - val_loss: 0.3628 - val_acc: 0.8570\n",
      "Epoch 45/120\n",
      "313/313 [==============================] - 2s 6ms/step - loss: 0.3000 - acc: 0.8886 - val_loss: 0.3655 - val_acc: 0.8660\n",
      "Epoch 46/120\n",
      "313/313 [==============================] - 2s 6ms/step - loss: 0.2909 - acc: 0.8912 - val_loss: 0.3971 - val_acc: 0.8430\n",
      "Epoch 47/120\n",
      "313/313 [==============================] - 2s 6ms/step - loss: 0.2787 - acc: 0.8944 - val_loss: 0.3652 - val_acc: 0.8530\n",
      "Epoch 48/120\n",
      "313/313 [==============================] - 3s 8ms/step - loss: 0.2648 - acc: 0.9017 - val_loss: 0.3456 - val_acc: 0.8700\n",
      "Epoch 49/120\n",
      "313/313 [==============================] - 2s 6ms/step - loss: 0.2630 - acc: 0.8991 - val_loss: 0.3497 - val_acc: 0.8670\n",
      "Epoch 50/120\n",
      "313/313 [==============================] - 2s 6ms/step - loss: 0.2370 - acc: 0.9096 - val_loss: 0.3394 - val_acc: 0.8820\n",
      "Epoch 51/120\n",
      "313/313 [==============================] - 2s 7ms/step - loss: 0.2348 - acc: 0.9140 - val_loss: 0.3314 - val_acc: 0.8860\n",
      "Epoch 52/120\n",
      "313/313 [==============================] - 2s 6ms/step - loss: 0.2146 - acc: 0.9241 - val_loss: 0.2991 - val_acc: 0.8850\n",
      "Epoch 53/120\n",
      "313/313 [==============================] - 2s 6ms/step - loss: 0.2026 - acc: 0.9248 - val_loss: 0.2794 - val_acc: 0.8970\n",
      "Epoch 54/120\n",
      "313/313 [==============================] - 2s 6ms/step - loss: 0.2013 - acc: 0.9302 - val_loss: 0.2575 - val_acc: 0.9020\n",
      "Epoch 55/120\n",
      "313/313 [==============================] - 2s 6ms/step - loss: 0.1806 - acc: 0.9375 - val_loss: 0.2416 - val_acc: 0.9130\n",
      "Epoch 56/120\n",
      "313/313 [==============================] - 2s 7ms/step - loss: 0.1609 - acc: 0.9395 - val_loss: 0.2667 - val_acc: 0.9020\n",
      "Epoch 57/120\n",
      "313/313 [==============================] - 2s 6ms/step - loss: 0.1557 - acc: 0.9439 - val_loss: 0.2378 - val_acc: 0.9210\n",
      "Epoch 58/120\n",
      "313/313 [==============================] - 2s 6ms/step - loss: 0.1496 - acc: 0.9496 - val_loss: 0.2206 - val_acc: 0.9290\n",
      "Epoch 59/120\n",
      "313/313 [==============================] - 2s 6ms/step - loss: 0.1332 - acc: 0.9510 - val_loss: 0.2323 - val_acc: 0.9260\n",
      "Epoch 60/120\n",
      "313/313 [==============================] - 2s 6ms/step - loss: 0.1208 - acc: 0.9595 - val_loss: 0.2080 - val_acc: 0.9300\n",
      "Epoch 61/120\n",
      "313/313 [==============================] - 2s 6ms/step - loss: 0.1195 - acc: 0.9594 - val_loss: 0.2040 - val_acc: 0.9350\n",
      "Epoch 62/120\n",
      "313/313 [==============================] - 2s 6ms/step - loss: 0.1195 - acc: 0.9604 - val_loss: 0.2183 - val_acc: 0.9330\n",
      "Epoch 63/120\n",
      "313/313 [==============================] - 2s 6ms/step - loss: 0.1198 - acc: 0.9603 - val_loss: 0.2323 - val_acc: 0.9290\n",
      "Epoch 64/120\n",
      "313/313 [==============================] - 2s 6ms/step - loss: 0.1108 - acc: 0.9617 - val_loss: 0.2171 - val_acc: 0.9390\n",
      "Epoch 65/120\n",
      "313/313 [==============================] - 2s 6ms/step - loss: 0.1010 - acc: 0.9662 - val_loss: 0.2006 - val_acc: 0.9350\n",
      "Epoch 66/120\n",
      "313/313 [==============================] - 2s 6ms/step - loss: 0.1042 - acc: 0.9635 - val_loss: 0.1921 - val_acc: 0.9400\n",
      "Epoch 67/120\n",
      "313/313 [==============================] - 2s 6ms/step - loss: 0.1051 - acc: 0.9630 - val_loss: 0.2099 - val_acc: 0.9310\n",
      "Epoch 68/120\n",
      "313/313 [==============================] - 2s 6ms/step - loss: 0.0864 - acc: 0.9704 - val_loss: 0.2069 - val_acc: 0.9390\n",
      "Epoch 69/120\n",
      "313/313 [==============================] - 2s 6ms/step - loss: 0.0890 - acc: 0.9691 - val_loss: 0.2023 - val_acc: 0.9360\n",
      "Epoch 70/120\n",
      "313/313 [==============================] - 2s 6ms/step - loss: 0.0832 - acc: 0.9700 - val_loss: 0.2010 - val_acc: 0.9360\n",
      "Epoch 71/120\n",
      "313/313 [==============================] - 2s 7ms/step - loss: 0.0776 - acc: 0.9745 - val_loss: 0.2004 - val_acc: 0.9340\n",
      "Epoch 72/120\n",
      "313/313 [==============================] - 2s 6ms/step - loss: 0.0677 - acc: 0.9769 - val_loss: 0.2167 - val_acc: 0.9320\n",
      "Epoch 73/120\n",
      "313/313 [==============================] - 2s 6ms/step - loss: 0.0633 - acc: 0.9787 - val_loss: 0.2080 - val_acc: 0.9390\n",
      "Epoch 74/120\n",
      "313/313 [==============================] - 2s 6ms/step - loss: 0.0670 - acc: 0.9765 - val_loss: 0.2052 - val_acc: 0.9370\n",
      "Epoch 75/120\n",
      "313/313 [==============================] - 2s 6ms/step - loss: 0.0750 - acc: 0.9761 - val_loss: 0.1885 - val_acc: 0.9400\n",
      "Epoch 76/120\n",
      "313/313 [==============================] - 2s 6ms/step - loss: 0.0616 - acc: 0.9783 - val_loss: 0.2174 - val_acc: 0.9300\n",
      "Epoch 77/120\n",
      "313/313 [==============================] - 2s 6ms/step - loss: 0.0716 - acc: 0.9768 - val_loss: 0.1917 - val_acc: 0.9430\n",
      "Epoch 78/120\n",
      "313/313 [==============================] - 2s 6ms/step - loss: 0.0683 - acc: 0.9765 - val_loss: 0.2042 - val_acc: 0.9390\n",
      "Epoch 79/120\n",
      "313/313 [==============================] - 2s 6ms/step - loss: 0.0679 - acc: 0.9783 - val_loss: 0.1990 - val_acc: 0.9400\n",
      "Epoch 80/120\n",
      "313/313 [==============================] - 2s 6ms/step - loss: 0.0533 - acc: 0.9814 - val_loss: 0.2446 - val_acc: 0.9410\n",
      "Epoch 81/120\n",
      "313/313 [==============================] - 2s 6ms/step - loss: 0.0488 - acc: 0.9833 - val_loss: 0.2004 - val_acc: 0.9380\n",
      "Epoch 82/120\n",
      "313/313 [==============================] - 2s 6ms/step - loss: 0.0574 - acc: 0.9827 - val_loss: 0.2042 - val_acc: 0.9330\n",
      "Epoch 83/120\n",
      "313/313 [==============================] - 2s 6ms/step - loss: 0.0652 - acc: 0.9786 - val_loss: 0.1938 - val_acc: 0.9460\n",
      "Epoch 84/120\n",
      "313/313 [==============================] - 2s 6ms/step - loss: 0.0583 - acc: 0.9820 - val_loss: 0.2490 - val_acc: 0.9390\n",
      "Epoch 85/120\n",
      "313/313 [==============================] - 2s 6ms/step - loss: 0.0426 - acc: 0.9854 - val_loss: 0.1961 - val_acc: 0.9350\n",
      "Epoch 86/120\n",
      "313/313 [==============================] - 2s 6ms/step - loss: 0.0567 - acc: 0.9836 - val_loss: 0.1890 - val_acc: 0.9440\n",
      "Epoch 87/120\n",
      "313/313 [==============================] - 2s 6ms/step - loss: 0.0585 - acc: 0.9832 - val_loss: 0.1912 - val_acc: 0.9510\n",
      "Epoch 88/120\n",
      "313/313 [==============================] - 2s 7ms/step - loss: 0.0630 - acc: 0.9833 - val_loss: 0.1651 - val_acc: 0.9480\n",
      "Epoch 89/120\n",
      "313/313 [==============================] - 2s 7ms/step - loss: 0.0485 - acc: 0.9846 - val_loss: 0.1940 - val_acc: 0.9410\n",
      "Epoch 90/120\n",
      "313/313 [==============================] - 2s 6ms/step - loss: 0.0418 - acc: 0.9869 - val_loss: 0.1813 - val_acc: 0.9450\n",
      "Epoch 91/120\n",
      "313/313 [==============================] - 2s 6ms/step - loss: 0.0381 - acc: 0.9883 - val_loss: 0.1825 - val_acc: 0.9470\n",
      "Epoch 92/120\n",
      "313/313 [==============================] - 2s 6ms/step - loss: 0.0508 - acc: 0.9842 - val_loss: 0.2173 - val_acc: 0.9410\n",
      "Epoch 93/120\n",
      "313/313 [==============================] - 2s 6ms/step - loss: 0.0426 - acc: 0.9865 - val_loss: 0.2157 - val_acc: 0.9410\n",
      "Epoch 94/120\n",
      "313/313 [==============================] - 3s 9ms/step - loss: 0.0446 - acc: 0.9881 - val_loss: 0.1964 - val_acc: 0.9450\n",
      "Epoch 95/120\n",
      "313/313 [==============================] - 2s 6ms/step - loss: 0.0370 - acc: 0.9894 - val_loss: 0.1842 - val_acc: 0.9430\n",
      "Epoch 96/120\n",
      "313/313 [==============================] - 2s 6ms/step - loss: 0.0422 - acc: 0.9872 - val_loss: 0.1967 - val_acc: 0.9450\n",
      "Epoch 97/120\n",
      "313/313 [==============================] - 2s 6ms/step - loss: 0.0432 - acc: 0.9883 - val_loss: 0.1983 - val_acc: 0.9490\n",
      "Epoch 98/120\n",
      "313/313 [==============================] - 2s 6ms/step - loss: 0.0401 - acc: 0.9884 - val_loss: 0.1908 - val_acc: 0.9560\n",
      "Epoch 99/120\n",
      "313/313 [==============================] - 2s 6ms/step - loss: 0.0312 - acc: 0.9880 - val_loss: 0.2156 - val_acc: 0.9460\n",
      "Epoch 100/120\n",
      "313/313 [==============================] - 2s 6ms/step - loss: 0.0368 - acc: 0.9875 - val_loss: 0.2307 - val_acc: 0.9460\n",
      "Epoch 101/120\n",
      "313/313 [==============================] - 2s 6ms/step - loss: 0.0362 - acc: 0.9890 - val_loss: 0.2055 - val_acc: 0.9440\n",
      "Epoch 102/120\n",
      "313/313 [==============================] - 2s 6ms/step - loss: 0.0329 - acc: 0.9911 - val_loss: 0.2022 - val_acc: 0.9490\n",
      "Epoch 103/120\n",
      "313/313 [==============================] - 2s 6ms/step - loss: 0.0308 - acc: 0.9895 - val_loss: 0.2110 - val_acc: 0.9450\n",
      "Epoch 104/120\n",
      "313/313 [==============================] - 2s 6ms/step - loss: 0.0349 - acc: 0.9891 - val_loss: 0.2240 - val_acc: 0.9490\n",
      "Epoch 105/120\n",
      "313/313 [==============================] - 2s 7ms/step - loss: 0.0288 - acc: 0.9908 - val_loss: 0.2135 - val_acc: 0.9490\n",
      "Epoch 106/120\n",
      "313/313 [==============================] - 2s 7ms/step - loss: 0.0277 - acc: 0.9907 - val_loss: 0.2120 - val_acc: 0.9500\n",
      "Epoch 107/120\n",
      "313/313 [==============================] - 2s 6ms/step - loss: 0.0349 - acc: 0.9897 - val_loss: 0.2095 - val_acc: 0.9500\n",
      "Epoch 108/120\n",
      "313/313 [==============================] - 2s 6ms/step - loss: 0.0419 - acc: 0.9899 - val_loss: 0.1821 - val_acc: 0.9550\n",
      "Epoch 109/120\n",
      "313/313 [==============================] - 2s 6ms/step - loss: 0.0285 - acc: 0.9930 - val_loss: 0.1964 - val_acc: 0.9480\n",
      "Epoch 110/120\n",
      "313/313 [==============================] - 2s 6ms/step - loss: 0.0352 - acc: 0.9905 - val_loss: 0.2392 - val_acc: 0.9380\n",
      "Epoch 111/120\n",
      "313/313 [==============================] - 2s 6ms/step - loss: 0.0313 - acc: 0.9899 - val_loss: 0.2217 - val_acc: 0.9500\n",
      "Epoch 112/120\n",
      "313/313 [==============================] - 2s 6ms/step - loss: 0.0308 - acc: 0.9925 - val_loss: 0.2302 - val_acc: 0.9440\n",
      "Epoch 113/120\n",
      "313/313 [==============================] - 2s 8ms/step - loss: 0.0309 - acc: 0.9917 - val_loss: 0.2315 - val_acc: 0.9470\n",
      "Epoch 114/120\n",
      "313/313 [==============================] - 2s 7ms/step - loss: 0.0204 - acc: 0.9933 - val_loss: 0.2040 - val_acc: 0.9520\n",
      "Epoch 115/120\n",
      "313/313 [==============================] - 2s 6ms/step - loss: 0.0311 - acc: 0.9903 - val_loss: 0.2085 - val_acc: 0.9500\n",
      "Epoch 116/120\n",
      "313/313 [==============================] - 2s 6ms/step - loss: 0.0330 - acc: 0.9917 - val_loss: 0.2110 - val_acc: 0.9480\n",
      "Epoch 117/120\n",
      "313/313 [==============================] - 2s 6ms/step - loss: 0.0380 - acc: 0.9909 - val_loss: 0.2085 - val_acc: 0.9500\n",
      "Epoch 118/120\n",
      "313/313 [==============================] - 2s 6ms/step - loss: 0.0253 - acc: 0.9925 - val_loss: 0.2101 - val_acc: 0.9530\n",
      "Epoch 119/120\n",
      "313/313 [==============================] - 2s 6ms/step - loss: 0.0318 - acc: 0.9907 - val_loss: 0.2002 - val_acc: 0.9540\n",
      "Epoch 120/120\n",
      "313/313 [==============================] - 2s 6ms/step - loss: 0.0338 - acc: 0.9925 - val_loss: 0.2141 - val_acc: 0.9520\n"
     ]
    }
   ],
   "source": [
    "# build the final model\n",
    "model = Model([input_sequence, question], answer)\n",
    "model.compile(optimizer='rmsprop', loss='categorical_crossentropy',\n",
    "              metrics=['acc'])\n",
    "\n",
    "print(model.summary())\n",
    "\n",
    "# start training the model\n",
    "history = model.fit([Xstrain, Xqtrain],\n",
    "         Ytrain, batch_size, train_epochs,\n",
    "         validation_data=([Xstest, Xqtest], Ytest))\n",
    "\n",
    "# save model\n",
    "model.save('model.h5')"
   ]
  },
  {
   "cell_type": "code",
   "execution_count": 86,
   "id": "attended-spencer",
   "metadata": {},
   "outputs": [
    {
     "name": "stdout",
     "output_type": "stream",
     "text": [
      "32/32 [==============================] - 0s 3ms/step - loss: 0.2141 - acc: 0.9520\n",
      "\n",
      " 테스트 정확도: 0.9520\n"
     ]
    }
   ],
   "source": [
    "print(\"\\n 테스트 정확도: %.4f\" % (model.evaluate([Xstest, Xqtest], Ytest)[1]))"
   ]
  },
  {
   "cell_type": "code",
   "execution_count": 87,
   "id": "tutorial-singer",
   "metadata": {},
   "outputs": [
    {
     "data": {
      "image/png": "[encoded data removed]",
      "text/plain": [
       "<Figure size 432x288 with 2 Axes>"
      ]
     },
     "metadata": {
      "needs_background": "light"
     },
     "output_type": "display_data"
    }
   ],
   "source": [
    "# plot accuracy and loss plot\n",
    "plt.subplot(211)\n",
    "plt.title(\"Accuracy\")\n",
    "plt.plot(history.history[\"acc\"], color=\"g\", label=\"train\")\n",
    "plt.plot(history.history[\"val_acc\"], color=\"b\", label=\"validation\")\n",
    "plt.legend(loc=\"best\")\n",
    "\n",
    "plt.subplot(212)\n",
    "plt.title(\"Loss\")\n",
    "plt.plot(history.history[\"loss\"], color=\"g\", label=\"train\")\n",
    "plt.plot(history.history[\"val_loss\"], color=\"b\", label=\"validation\")\n",
    "plt.legend(loc=\"best\")\n",
    "\n",
    "plt.tight_layout()\n",
    "plt.show()\n",
    "\n",
    "# labels\n",
    "ytest = np.argmax(Ytest, axis=1)\n",
    "\n",
    "# get predictions\n",
    "Ytest_ = model.predict([Xstest, Xqtest])\n",
    "ytest_ = np.argmax(Ytest_, axis=1)"
   ]
  },
  {
   "cell_type": "code",
   "execution_count": null,
   "id": "respective-russian",
   "metadata": {},
   "outputs": [],
   "source": []
  }
 ],
 "metadata": {
  "kernelspec": {
   "display_name": "Python 3",
   "language": "python",
   "name": "python3"
  },
  "language_info": {
   "codemirror_mode": {
    "name": "ipython",
    "version": 3
   },
   "file_extension": ".py",
   "mimetype": "text/x-python",
   "name": "python",
   "nbconvert_exporter": "python",
   "pygments_lexer": "ipython3",
   "version": "3.8.7"
  }
 },
 "nbformat": 4,
 "nbformat_minor": 5
}
