{
 "cells": [
  {
   "cell_type": "markdown",
   "id": "white-livestock",
   "metadata": {},
   "source": [
    "# MemN QA Kor(MemN으로 한국어 QA 해보기)"
   ]
  },
  {
   "cell_type": "markdown",
   "id": "backed-gregory",
   "metadata": {},
   "source": [
    "출처 : WikiDocs, <딥 러닝을 이용한 자연어 처리 입문>, https://wikidocs.net/85470"
   ]
  },
  {
   "cell_type": "markdown",
   "id": "photographic-matthew",
   "metadata": {},
   "source": [
    "## 커스터마이즈드 KoNLPy"
   ]
  },
  {
   "cell_type": "markdown",
   "id": "concerned-radio",
   "metadata": {},
   "source": [
    "Customized Konlpy : 사용자 사전 추가가 매우 쉬운 패키지"
   ]
  },
  {
   "cell_type": "code",
   "execution_count": 2,
   "id": "copyrighted-thesaurus",
   "metadata": {},
   "outputs": [
    {
     "name": "stdout",
     "output_type": "stream",
     "text": [
      "Requirement already satisfied: customized_konlpy in c:\\users\\soyeon\\python2021\\lib\\site-packages (0.0.64)\n",
      "Requirement already satisfied: Jpype1>=0.6.1 in c:\\users\\soyeon\\python2021\\lib\\site-packages (from customized_konlpy) (1.2.0)\n",
      "Requirement already satisfied: konlpy>=0.4.4 in c:\\users\\soyeon\\python2021\\lib\\site-packages (from customized_konlpy) (0.5.2)\n",
      "Requirement already satisfied: tweepy>=3.7.0 in c:\\users\\soyeon\\python2021\\lib\\site-packages (from konlpy>=0.4.4->customized_konlpy) (3.10.0)\n",
      "Requirement already satisfied: beautifulsoup4==4.6.0 in c:\\users\\soyeon\\python2021\\lib\\site-packages (from konlpy>=0.4.4->customized_konlpy) (4.6.0)\n",
      "Requirement already satisfied: lxml>=4.1.0 in c:\\users\\soyeon\\python2021\\lib\\site-packages (from konlpy>=0.4.4->customized_konlpy) (4.6.2)\n",
      "Requirement already satisfied: numpy>=1.6 in c:\\users\\soyeon\\python2021\\lib\\site-packages (from konlpy>=0.4.4->customized_konlpy) (1.19.5)\n",
      "Requirement already satisfied: colorama in c:\\users\\soyeon\\python2021\\lib\\site-packages (from konlpy>=0.4.4->customized_konlpy) (0.4.4)\n",
      "Requirement already satisfied: six>=1.10.0 in c:\\users\\soyeon\\python2021\\lib\\site-packages (from tweepy>=3.7.0->konlpy>=0.4.4->customized_konlpy) (1.15.0)\n",
      "Requirement already satisfied: requests-oauthlib>=0.7.0 in c:\\users\\soyeon\\python2021\\lib\\site-packages (from tweepy>=3.7.0->konlpy>=0.4.4->customized_konlpy) (1.3.0)\n",
      "Requirement already satisfied: requests[socks]>=2.11.1 in c:\\users\\soyeon\\python2021\\lib\\site-packages (from tweepy>=3.7.0->konlpy>=0.4.4->customized_konlpy) (2.25.1)\n",
      "Requirement already satisfied: oauthlib>=3.0.0 in c:\\users\\soyeon\\python2021\\lib\\site-packages (from requests-oauthlib>=0.7.0->tweepy>=3.7.0->konlpy>=0.4.4->customized_konlpy) (3.1.0)\n",
      "Requirement already satisfied: idna<3,>=2.5 in c:\\users\\soyeon\\python2021\\lib\\site-packages (from requests[socks]>=2.11.1->tweepy>=3.7.0->konlpy>=0.4.4->customized_konlpy) (2.10)\n",
      "Requirement already satisfied: chardet<5,>=3.0.2 in c:\\users\\soyeon\\python2021\\lib\\site-packages (from requests[socks]>=2.11.1->tweepy>=3.7.0->konlpy>=0.4.4->customized_konlpy) (4.0.0)\n",
      "Requirement already satisfied: certifi>=2017.4.17 in c:\\users\\soyeon\\python2021\\lib\\site-packages (from requests[socks]>=2.11.1->tweepy>=3.7.0->konlpy>=0.4.4->customized_konlpy) (2020.12.5)\n",
      "Requirement already satisfied: urllib3<1.27,>=1.21.1 in c:\\users\\soyeon\\python2021\\lib\\site-packages (from requests[socks]>=2.11.1->tweepy>=3.7.0->konlpy>=0.4.4->customized_konlpy) (1.26.2)\n",
      "Requirement already satisfied: PySocks!=1.5.7,>=1.5.6 in c:\\users\\soyeon\\python2021\\lib\\site-packages (from requests[socks]>=2.11.1->tweepy>=3.7.0->konlpy>=0.4.4->customized_konlpy) (1.7.1)\n"
     ]
    }
   ],
   "source": [
    "!pip install customized_konlpy"
   ]
  },
  {
   "cell_type": "code",
   "execution_count": 5,
   "id": "combined-leave",
   "metadata": {},
   "outputs": [
    {
     "data": {
      "text/plain": [
       "['은', '경이', '는', '사무실', '로', '갔습니다', '.']"
      ]
     },
     "execution_count": 5,
     "metadata": {},
     "output_type": "execute_result"
    }
   ],
   "source": [
    "# customized _konlpy에서 제공하는 형태소 분석기 Twitter를 사용하여 토큰화해보자!\n",
    "from ckonlpy.tag import Twitter\n",
    "twitter = Twitter()\n",
    "twitter.morphs('은경이는 사무실로 갔습니다.')"
   ]
  },
  {
   "cell_type": "code",
   "execution_count": 6,
   "id": "emerging-cleaner",
   "metadata": {},
   "outputs": [],
   "source": [
    "# 형태소 분석기 Twitter에 사전 추가\n",
    "twitter.add_dictionary('은경이', 'Noun')"
   ]
  },
  {
   "cell_type": "code",
   "execution_count": 7,
   "id": "computational-instrumentation",
   "metadata": {},
   "outputs": [
    {
     "data": {
      "text/plain": [
       "['은경이', '는', '사무실', '로', '갔습니다', '.']"
      ]
     },
     "execution_count": 7,
     "metadata": {},
     "output_type": "execute_result"
    }
   ],
   "source": [
    "twitter.morphs('은경이는 사무실로 갔습니다.')"
   ]
  },
  {
   "cell_type": "markdown",
   "id": "invisible-circumstances",
   "metadata": {},
   "source": [
    "## 한국어 Babi 데이터셋 로드와 전처리"
   ]
  },
  {
   "cell_type": "markdown",
   "id": "interior-arbor",
   "metadata": {},
   "source": [
    "데이터 출처\n",
    "\n",
    "훈련 데이터 : https://bit.ly/31SqtHy\n",
    "\n",
    "테스트 데이터 : https://bit.ly/3f7rH5g"
   ]
  },
  {
   "cell_type": "code",
   "execution_count": 1,
   "id": "moved-unemployment",
   "metadata": {},
   "outputs": [],
   "source": [
    "from ckonlpy.tag import Twitter\n",
    "from tensorflow.keras.utils import get_file\n",
    "from tensorflow.keras.preprocessing.sequence import pad_sequences\n",
    "from tensorflow.keras.utils import to_categorical\n",
    "import numpy as np\n",
    "from nltk import FreqDist\n",
    "from functools import reduce\n",
    "import os\n",
    "import re\n",
    "import matplotlib.pyplot as plt"
   ]
  },
  {
   "cell_type": "code",
   "execution_count": 2,
   "id": "distinguished-skirt",
   "metadata": {},
   "outputs": [],
   "source": [
    "TRAIN_FILE = os.path.join(\"qa1_single-supporting-fact_train_kor.txt\")\n",
    "TEST_FILE = os.path.join(\"qa1_single-supporting-fact_test_kor.txt\")"
   ]
  },
  {
   "cell_type": "code",
   "execution_count": 3,
   "id": "biblical-dividend",
   "metadata": {},
   "outputs": [
    {
     "name": "stdout",
     "output_type": "stream",
     "text": [
      "1 필웅이는 화장실로 갔습니다.\n",
      "2 은경이는 복도로 이동했습니다.\n",
      "3 필웅이는 어디야? \t화장실\t1\n",
      "4 수종이는 복도로 복귀했습니다.\n",
      "5 경임이는 정원으로 갔습니다.\n",
      "6 수종이는 어디야? \t복도\t4\n",
      "7 은경이는 사무실로 갔습니다.\n",
      "8 경임이는 화장실로 뛰어갔습니다.\n",
      "9 수종이는 어디야? \t복도\t4\n",
      "10 필웅이는 복도로 갔습니다.\n",
      "11 수종이는 사무실로 가버렸습니다.\n",
      "12 수종이는 어디야? \t사무실\t11\n",
      "13 은경이는 정원으로 복귀했습니다.\n",
      "14 은경이는 침실로 갔습니다.\n",
      "15 경임이는 어디야? \t화장실\t8\n",
      "1 경임이는 사무실로 가버렸습니다.\n",
      "2 경임이는 화장실로 이동했습니다.\n",
      "3 경임이는 어디야? \t화장실\t2\n",
      "4 필웅이는 침실로 이동했습니다.\n",
      "5 수종이는 복도로 갔습니다.\n"
     ]
    }
   ],
   "source": [
    "# 훈련 데이터 상위 20개 문장 출력\n",
    "i = 0\n",
    "lines = open(TRAIN_FILE , \"rb\")\n",
    "for line in lines:\n",
    "    line = line.decode(\"utf-8\").strip()\n",
    "    i = i + 1\n",
    "    print(line)\n",
    "    if i == 20:\n",
    "        break"
   ]
  },
  {
   "cell_type": "code",
   "execution_count": 4,
   "id": "random-seeking",
   "metadata": {},
   "outputs": [],
   "source": [
    "def read_data(dir):\n",
    "    stories, questions, answers = [], [], [] # 각각 스토리, 질문, 답변을 저장할 예정\n",
    "    story_temp = [] # 현재 시점의 스토리 임시 저장\n",
    "    lines = open(dir, \"rb\")\n",
    "\n",
    "    for line in lines:\n",
    "        line = line.decode(\"utf-8\") # b' 제거\n",
    "        line = line.strip() # '\\n' 제거\n",
    "        idx, text = line.split(\" \", 1) # 맨 앞에 있는 id number 분리\n",
    "        # 여기까지는 모든 줄에 적용되는 전처리\n",
    "\n",
    "        if int(idx) == 1:\n",
    "            story_temp = []\n",
    "\n",
    "        if \"\\t\" in text: # 현재 읽는 줄이 질문 (tab) 답변 (tab)인 경우\n",
    "            question, answer, _ = text.split(\"\\t\") # 질문과 답변을 각각 저장\n",
    "            stories.append([x for x in story_temp if x]) # 지금까지의 누적 스토리를 스토리에 저장\n",
    "            questions.append(question)\n",
    "            answers.append(answer)\n",
    "\n",
    "        else: # 현재 읽는 줄이 스토리인 경우\n",
    "            story_temp.append(text) # 임시 저장\n",
    "\n",
    "    lines.close()\n",
    "    return stories, questions, answers"
   ]
  },
  {
   "cell_type": "code",
   "execution_count": 5,
   "id": "upset-secret",
   "metadata": {},
   "outputs": [],
   "source": [
    "train_data = read_data(TRAIN_FILE)\n",
    "test_data = read_data(TEST_FILE)"
   ]
  },
  {
   "cell_type": "code",
   "execution_count": 8,
   "id": "technical-mediterranean",
   "metadata": {},
   "outputs": [],
   "source": [
    "# 데이터의 구성 확인 - 스토리, 질문, 답변\n",
    "train_stories, train_questions, train_answers = read_data(TRAIN_FILE)\n",
    "test_stories, test_questions, test_answers = read_data(TEST_FILE)"
   ]
  },
  {
   "cell_type": "code",
   "execution_count": 9,
   "id": "occupied-bunny",
   "metadata": {},
   "outputs": [
    {
     "name": "stdout",
     "output_type": "stream",
     "text": [
      "훈련용 스토리의 개수 : 10000\n",
      "훈련용 질문의 개수 : 10000\n",
      "훈련용 답변의 개수 : 10000\n",
      "테스트용 스토리의 개수 : 1000\n",
      "테스트용 질문의 개수 : 1000\n",
      "테스트용 답변의 개수 : 1000\n"
     ]
    }
   ],
   "source": [
    "print('훈련용 스토리의 개수 :', len(train_stories))\n",
    "print('훈련용 질문의 개수 :',len(train_questions))\n",
    "print('훈련용 답변의 개수 :',len(train_answers))\n",
    "print('테스트용 스토리의 개수 :',len(test_stories))\n",
    "print('테스트용 질문의 개수 :',len(test_questions))\n",
    "print('테스트용 답변의 개수 :',len(test_answers))"
   ]
  },
  {
   "cell_type": "code",
   "execution_count": 10,
   "id": "iraqi-cambodia",
   "metadata": {},
   "outputs": [
    {
     "data": {
      "text/plain": [
       "['은경이는 부엌으로 가버렸습니다.',\n",
       " '필웅이는 사무실로 가버렸습니다.',\n",
       " '수종이는 복도로 뛰어갔습니다.',\n",
       " '은경이는 사무실로 복귀했습니다.',\n",
       " '경임이는 사무실로 이동했습니다.',\n",
       " '경임이는 침실로 갔습니다.']"
      ]
     },
     "execution_count": 10,
     "metadata": {},
     "output_type": "execute_result"
    }
   ],
   "source": [
    "train_stories[3572]"
   ]
  },
  {
   "cell_type": "code",
   "execution_count": 11,
   "id": "alien-karaoke",
   "metadata": {},
   "outputs": [
    {
     "data": {
      "text/plain": [
       "'은경이는 어디야? '"
      ]
     },
     "execution_count": 11,
     "metadata": {},
     "output_type": "execute_result"
    }
   ],
   "source": [
    "train_questions[3572]"
   ]
  },
  {
   "cell_type": "code",
   "execution_count": 12,
   "id": "innocent-still",
   "metadata": {},
   "outputs": [
    {
     "data": {
      "text/plain": [
       "'사무실'"
      ]
     },
     "execution_count": 12,
     "metadata": {},
     "output_type": "execute_result"
    }
   ],
   "source": [
    "train_answers[3572]"
   ]
  },
  {
   "cell_type": "code",
   "execution_count": 17,
   "id": "noble-webcam",
   "metadata": {},
   "outputs": [],
   "source": [
    "# 토큰화 함수를 정의\n",
    "def tokenize(sent):\n",
    "    return [ x.strip() for x in re.split('(\\W+)', sent) if x.strip()]"
   ]
  },
  {
   "cell_type": "code",
   "execution_count": 18,
   "id": "mental-emerald",
   "metadata": {},
   "outputs": [],
   "source": [
    "# Vocabulary 만드는 함수 정의\n",
    "def preprocess_data(train_data, test_data):\n",
    "    counter = FreqDist()\n",
    "\n",
    "    # 두 문장의 story를 하나의 문장으로 통합하는 함수\n",
    "    flatten = lambda data: reduce(lambda x, y: x + y, data)\n",
    "\n",
    "    # 각 샘플의 길이를 저장하는 리스트\n",
    "    story_len = []\n",
    "    question_len = []\n",
    "\n",
    "    for stories, questions, answers in [train_data, test_data]:\n",
    "        for story in stories:\n",
    "            stories = tokenize(flatten(story)) # 스토리의 문장들을 펼친 후 토큰화\n",
    "            story_len.append(len(stories)) # 각 story의 길이 저장\n",
    "            for word in stories: # 단어 집합에 단어 추가\n",
    "                counter[word] += 1\n",
    "        for question in questions:\n",
    "            question = tokenize(question)\n",
    "            question_len.append(len(question))\n",
    "            for word in question:\n",
    "                counter[word] += 1\n",
    "        for answer in answers:\n",
    "            answer = tokenize(answer)\n",
    "            for word in answer:\n",
    "                counter[word] += 1\n",
    "\n",
    "    # 단어 집합 생성\n",
    "    word2idx = {word : (idx + 1) for idx, (word, _) in enumerate(counter.most_common())}\n",
    "    idx2word = {idx : word for word, idx in word2idx.items()}\n",
    "\n",
    "    # 가장 긴 샘플의 길이\n",
    "    story_max_len = np.max(story_len)\n",
    "    question_max_len = np.max(question_len)\n",
    "\n",
    "    return word2idx, idx2word, story_max_len, question_max_len  "
   ]
  },
  {
   "cell_type": "code",
   "execution_count": 19,
   "id": "sought-hunter",
   "metadata": {},
   "outputs": [],
   "source": [
    "word2idx, idx2word, story_max_len, question_max_len = preprocess_data(train_data, test_data)"
   ]
  },
  {
   "cell_type": "code",
   "execution_count": 20,
   "id": "peaceful-wayne",
   "metadata": {},
   "outputs": [
    {
     "name": "stdout",
     "output_type": "stream",
     "text": [
      "{'.': 1, '경임이는': 2, '은경이는': 3, '수종이는': 4, '필웅이는': 5, '이동했습니다': 6, '가버렸습니다': 7, '뛰어갔습니다': 8, '복귀했습니다': 9, '갔습니다': 10, '화장실로': 11, '정원으로': 12, '복도로': 13, '어디야': 14, '?': 15, '부엌으로': 16, '사무실로': 17, '침실로': 18, '화장실': 19, '정원': 20, '사무실': 21, '침실': 22, '복도': 23, '부엌': 24}\n"
     ]
    }
   ],
   "source": [
    "print(word2idx)"
   ]
  },
  {
   "cell_type": "code",
   "execution_count": 21,
   "id": "therapeutic-bradley",
   "metadata": {},
   "outputs": [
    {
     "name": "stderr",
     "output_type": "stream",
     "text": [
      "c:\\users\\soyeon\\python2021\\lib\\site-packages\\konlpy\\tag\\_okt.py:16: UserWarning: \"Twitter\" has changed to \"Okt\" since KoNLPy v0.4.5.\n",
      "  warn('\"Twitter\" has changed to \"Okt\" since KoNLPy v0.4.5.')\n"
     ]
    },
    {
     "name": "stdout",
     "output_type": "stream",
     "text": [
      "['은', '경이', '는', '화장실', '로', '이동', '했습니다', '.']\n",
      "['경', '임', '이', '는', '정원', '으로', '가버렸습니다', '.']\n",
      "['수종', '이', '는', '복도', '로', '뛰어갔습니다', '.']\n",
      "['필웅이', '는', '부엌', '으로', '복귀', '했습니다', '.']\n",
      "['수종', '이', '는', '사무실', '로', '갔습니다', '.']\n",
      "['은', '경이', '는', '침실', '로', '갔습니다', '.']\n"
     ]
    }
   ],
   "source": [
    "# 형태소 분석기 사용하여 원하는 결과가 정상적으로 출력되는지 확인\n",
    "twitter = Twitter()\n",
    "\n",
    "print(twitter.morphs('은경이는 화장실로 이동했습니다.'))\n",
    "print(twitter.morphs('경임이는 정원으로 가버렸습니다.'))\n",
    "print(twitter.morphs('수종이는 복도로 뛰어갔습니다.'))\n",
    "print(twitter.morphs('필웅이는 부엌으로 복귀했습니다.'))\n",
    "print(twitter.morphs('수종이는 사무실로 갔습니다.'))\n",
    "print(twitter.morphs('은경이는 침실로 갔습니다.'))"
   ]
  },
  {
   "cell_type": "code",
   "execution_count": 22,
   "id": "developmental-dressing",
   "metadata": {},
   "outputs": [],
   "source": [
    "# 사전 추가\n",
    "twitter.add_dictionary('은경이', 'Noun')\n",
    "twitter.add_dictionary('경임이', 'Noun')\n",
    "twitter.add_dictionary('수종이', 'Noun')"
   ]
  },
  {
   "cell_type": "code",
   "execution_count": 23,
   "id": "accessory-establishment",
   "metadata": {},
   "outputs": [
    {
     "name": "stdout",
     "output_type": "stream",
     "text": [
      "['은경이', '는', '화장실', '로', '이동', '했습니다', '.']\n",
      "['경임이', '는', '정원', '으로', '가버렸습니다', '.']\n",
      "['수종이', '는', '복도', '로', '뛰어갔습니다', '.']\n",
      "['필웅이', '는', '부엌', '으로', '복귀', '했습니다', '.']\n",
      "['수종이', '는', '사무실', '로', '갔습니다', '.']\n",
      "['은경이', '는', '침실', '로', '갔습니다', '.']\n"
     ]
    }
   ],
   "source": [
    "print(twitter.morphs('은경이는 화장실로 이동했습니다.'))\n",
    "print(twitter.morphs('경임이는 정원으로 가버렸습니다.'))\n",
    "print(twitter.morphs('수종이는 복도로 뛰어갔습니다.'))\n",
    "print(twitter.morphs('필웅이는 부엌으로 복귀했습니다.'))\n",
    "print(twitter.morphs('수종이는 사무실로 갔습니다.'))\n",
    "print(twitter.morphs('은경이는 침실로 갔습니다.'))"
   ]
  },
  {
   "cell_type": "code",
   "execution_count": 24,
   "id": "forced-smith",
   "metadata": {},
   "outputs": [],
   "source": [
    "# 이를 새로운 토큰화 함수로 정의\n",
    "def tokenize(sent):\n",
    "    return twitter.morphs(sent)"
   ]
  },
  {
   "cell_type": "code",
   "execution_count": 25,
   "id": "postal-integral",
   "metadata": {},
   "outputs": [],
   "source": [
    "word2idx, idx2word, story_max_len, question_max_len = preprocess_data(train_data, test_data)"
   ]
  },
  {
   "cell_type": "code",
   "execution_count": 27,
   "id": "grateful-exclusive",
   "metadata": {},
   "outputs": [
    {
     "name": "stdout",
     "output_type": "stream",
     "text": [
      "{'는': 1, '.': 2, '로': 3, '했습니다': 4, '으로': 5, '경임이': 6, '은경이': 7, '수종이': 8, '필웅이': 9, '이동': 10, '가버렸습니다': 11, '뛰어갔습니다': 12, '복귀': 13, '화장실': 14, '정원': 15, '복도': 16, '갔습니다': 17, '사무실': 18, '부엌': 19, '침실': 20, '어디': 21, '야': 22, '?': 23}\n"
     ]
    }
   ],
   "source": [
    "print(word2idx)"
   ]
  },
  {
   "cell_type": "code",
   "execution_count": 28,
   "id": "english-ratio",
   "metadata": {},
   "outputs": [
    {
     "name": "stdout",
     "output_type": "stream",
     "text": [
      "24\n"
     ]
    }
   ],
   "source": [
    "# 단어 집합의 크기 정의\n",
    "vocab_size = len(word2idx) + 1\n",
    "print(vocab_size)"
   ]
  },
  {
   "cell_type": "code",
   "execution_count": 29,
   "id": "experimental-commodity",
   "metadata": {},
   "outputs": [
    {
     "name": "stdout",
     "output_type": "stream",
     "text": [
      "스토리의 최대 길이 : 70\n",
      "질문의 최대 길이 : 5\n"
     ]
    }
   ],
   "source": [
    "print('스토리의 최대 길이 :',story_max_len)\n",
    "print('질문의 최대 길이 :',question_max_len)"
   ]
  },
  {
   "cell_type": "code",
   "execution_count": 30,
   "id": "western-dream",
   "metadata": {},
   "outputs": [],
   "source": [
    "def vectorize(data, word2idx, story_maxlen, question_maxlen):\n",
    "    Xs, Xq, Y = [], [], []\n",
    "    flatten = lambda data: reduce(lambda x, y: x + y, data)\n",
    "\n",
    "    stories, questions, answers = data\n",
    "    for story, question, answer in zip(stories, questions, answers):\n",
    "        xs = [word2idx[w] for w in tokenize(flatten(story))]\n",
    "        xq = [word2idx[w] for w in tokenize(question)]\n",
    "        Xs.append(xs)\n",
    "        Xq.append(xq)\n",
    "        Y.append(word2idx[answer])\n",
    "\n",
    "        # 스토리와 질문은 각각의 최대 길이로 패딩\n",
    "        # 정답은 원-핫 인코딩\n",
    "    return pad_sequences(Xs, maxlen=story_maxlen),\\\n",
    "           pad_sequences(Xq, maxlen=question_maxlen),\\\n",
    "           to_categorical(Y, num_classes=len(word2idx) + 1)"
   ]
  },
  {
   "cell_type": "code",
   "execution_count": 31,
   "id": "hearing-locator",
   "metadata": {},
   "outputs": [],
   "source": [
    "Xstrain, Xqtrain, Ytrain = vectorize(train_data, word2idx, story_max_len, question_max_len)\n",
    "Xstest, Xqtest, Ytest = vectorize(test_data, word2idx, story_max_len, question_max_len)"
   ]
  },
  {
   "cell_type": "code",
   "execution_count": 32,
   "id": "spiritual-throw",
   "metadata": {},
   "outputs": [
    {
     "name": "stdout",
     "output_type": "stream",
     "text": [
      "(10000, 70) (10000, 5) (10000, 24) (1000, 70) (1000, 5) (1000, 24)\n"
     ]
    }
   ],
   "source": [
    "print(Xstrain.shape, Xqtrain.shape, Ytrain.shape, Xstest.shape, Xqtest.shape, Ytest.shape)"
   ]
  },
  {
   "cell_type": "markdown",
   "id": "noble-invention",
   "metadata": {},
   "source": [
    "## 메모리 네트워크로 QA 태스크 풀기"
   ]
  },
  {
   "cell_type": "code",
   "execution_count": 33,
   "id": "quick-spread",
   "metadata": {},
   "outputs": [],
   "source": [
    "from tensorflow.keras.models import Sequential, Model\n",
    "from tensorflow.keras.layers import Embedding\n",
    "from tensorflow.keras.layers import Permute, dot, add, concatenate\n",
    "from tensorflow.keras.layers import LSTM, Dense, Dropout, Input, Activation"
   ]
  },
  {
   "cell_type": "code",
   "execution_count": 34,
   "id": "opponent-tonight",
   "metadata": {},
   "outputs": [],
   "source": [
    "# 에포크 횟수\n",
    "train_epochs = 120\n",
    "# 배치 크기\n",
    "batch_size = 32\n",
    "# 임베딩 크기\n",
    "embed_size = 50\n",
    "# LSTM의 크기\n",
    "lstm_size = 64\n",
    "# 과적합 방지 기법인 드롭아웃 적용 비율\n",
    "dropout_rate = 0.30"
   ]
  },
  {
   "cell_type": "code",
   "execution_count": 35,
   "id": "utility-table",
   "metadata": {},
   "outputs": [
    {
     "name": "stdout",
     "output_type": "stream",
     "text": [
      "Stories : KerasTensor(type_spec=TensorSpec(shape=(None, 70), dtype=tf.float32, name='input_1'), name='input_1', description=\"created by layer 'input_1'\")\n",
      "Question: KerasTensor(type_spec=TensorSpec(shape=(None, 5), dtype=tf.float32, name='input_2'), name='input_2', description=\"created by layer 'input_2'\")\n"
     ]
    }
   ],
   "source": [
    "# 플레이스 홀더. 입력을 담는 변수\n",
    "input_sequence = Input((story_max_len,))\n",
    "question = Input((question_max_len,))\n",
    "\n",
    "print('Stories :', input_sequence)\n",
    "print('Question:', question)"
   ]
  },
  {
   "cell_type": "code",
   "execution_count": 36,
   "id": "virtual-norway",
   "metadata": {},
   "outputs": [],
   "source": [
    "# 스토리를 위한 첫번째 임베딩. 그림에서의 Embedding A\n",
    "input_encoder_m = Sequential()\n",
    "input_encoder_m.add(Embedding(input_dim=vocab_size,\n",
    "                              output_dim=embed_size))\n",
    "input_encoder_m.add(Dropout(dropout_rate))\n",
    "# 결과 : (samples, story_max_len, embedding_dim) / 샘플의 수, 문장의 최대 길이, 임베딩 벡터의 차원\n",
    "\n",
    "# 스토리를 위한 두번째 임베딩. 그림에서의 Embedding C\n",
    "# 임베딩 벡터의 차원을 question_max_len(질문의 최대 길이)로 한다.\n",
    "input_encoder_c = Sequential()\n",
    "input_encoder_c.add(Embedding(input_dim=vocab_size,\n",
    "                              output_dim=question_max_len))\n",
    "input_encoder_c.add(Dropout(dropout_rate))\n",
    "# 결과 : (samples, story_max_len, question_max_len) / 샘플의 수, 문장의 최대 길이, 질문의 최대 길이(임베딩 벡터의 차원)"
   ]
  },
  {
   "cell_type": "code",
   "execution_count": 37,
   "id": "weird-depth",
   "metadata": {},
   "outputs": [],
   "source": [
    "# 질문을 위한 임베딩. 그림에서의 Embedding B\n",
    "question_encoder = Sequential()\n",
    "question_encoder.add(Embedding(input_dim=vocab_size,\n",
    "                               output_dim=embed_size,\n",
    "                               input_length=question_max_len))\n",
    "question_encoder.add(Dropout(dropout_rate))\n",
    "# 결과 : (samples, question_max_len, embedding_dim) / 샘플의 수, 질문의 최대 길이, 임베딩 벡터의 차원"
   ]
  },
  {
   "cell_type": "code",
   "execution_count": 38,
   "id": "liquid-circuit",
   "metadata": {},
   "outputs": [
    {
     "name": "stdout",
     "output_type": "stream",
     "text": [
      "Input encoded m KerasTensor(type_spec=TensorSpec(shape=(None, 70, 50), dtype=tf.float32, name=None), name='sequential/dropout/Identity:0', description=\"created by layer 'sequential'\")\n",
      "Input encoded c KerasTensor(type_spec=TensorSpec(shape=(None, 70, 5), dtype=tf.float32, name=None), name='sequential_1/dropout_1/Identity:0', description=\"created by layer 'sequential_1'\")\n",
      "Question encoded KerasTensor(type_spec=TensorSpec(shape=(None, 5, 50), dtype=tf.float32, name=None), name='sequential_2/dropout_2/Identity:0', description=\"created by layer 'sequential_2'\")\n"
     ]
    }
   ],
   "source": [
    "# 실질적인 임베딩 과정\n",
    "input_encoded_m = input_encoder_m(input_sequence)\n",
    "input_encoded_c = input_encoder_c(input_sequence)\n",
    "question_encoded = question_encoder(question)\n",
    "\n",
    "print('Input encoded m', input_encoded_m)\n",
    "print('Input encoded c', input_encoded_c)\n",
    "print('Question encoded', question_encoded)"
   ]
  },
  {
   "cell_type": "code",
   "execution_count": 39,
   "id": "exact-console",
   "metadata": {},
   "outputs": [
    {
     "name": "stdout",
     "output_type": "stream",
     "text": [
      "Match shape KerasTensor(type_spec=TensorSpec(shape=(None, 70, 5), dtype=tf.float32, name=None), name='activation/truediv:0', description=\"created by layer 'activation'\")\n",
      "Response shape KerasTensor(type_spec=TensorSpec(shape=(None, 5, 70), dtype=tf.float32, name=None), name='permute/transpose:0', description=\"created by layer 'permute'\")\n",
      "Answer shape KerasTensor(type_spec=TensorSpec(shape=(None, 5, 120), dtype=tf.float32, name=None), name='concatenate/concat:0', description=\"created by layer 'concatenate'\")\n"
     ]
    }
   ],
   "source": [
    "# 스토리 단어들과 질문 단어들 간의 유사도를 구하는 과정\n",
    "# 유사도는 내적을 사용한다.\n",
    "match = dot([input_encoded_m, question_encoded], axes=-1, normalize=False)\n",
    "match = Activation('softmax')(match)\n",
    "print('Match shape', match)\n",
    "# 결과 : (samples, story_maxlen, question_max_len) / 샘플의 수, 문장의 최대 길이, 질문의 최대 길이\n",
    "\n",
    "# add the match matrix with the second input vector sequence\n",
    "response = add([match, input_encoded_c])  # (samples, story_max_len, question_max_len)\n",
    "response = Permute((2, 1))(response)  # (samples, question_max_len, story_max_len)\n",
    "print('Response shape', response)\n",
    "\n",
    "# concatenate the response vector with the question vector sequence\n",
    "answer = concatenate([response, question_encoded])\n",
    "print('Answer shape', answer)\n",
    "\n",
    "answer = LSTM(lstm_size)(answer)  # Generate tensors of shape 32\n",
    "answer = Dropout(dropout_rate)(answer)\n",
    "answer = Dense(vocab_size)(answer)  # (samples, vocab_size)\n",
    "# we output a probability distribution over the vocabulary\n",
    "answer = Activation('softmax')(answer)"
   ]
  },
  {
   "cell_type": "code",
   "execution_count": 41,
   "id": "wired-positive",
   "metadata": {},
   "outputs": [
    {
     "name": "stdout",
     "output_type": "stream",
     "text": [
      "Model: \"model\"\n",
      "__________________________________________________________________________________________________\n",
      "Layer (type)                    Output Shape         Param #     Connected to                     \n",
      "==================================================================================================\n",
      "input_1 (InputLayer)            [(None, 70)]         0                                            \n",
      "__________________________________________________________________________________________________\n",
      "input_2 (InputLayer)            [(None, 5)]          0                                            \n",
      "__________________________________________________________________________________________________\n",
      "sequential (Sequential)         (None, None, 50)     1200        input_1[0][0]                    \n",
      "__________________________________________________________________________________________________\n",
      "sequential_2 (Sequential)       (None, 5, 50)        1200        input_2[0][0]                    \n",
      "__________________________________________________________________________________________________\n",
      "dot (Dot)                       (None, 70, 5)        0           sequential[0][0]                 \n",
      "                                                                 sequential_2[0][0]               \n",
      "__________________________________________________________________________________________________\n",
      "activation (Activation)         (None, 70, 5)        0           dot[0][0]                        \n",
      "__________________________________________________________________________________________________\n",
      "sequential_1 (Sequential)       (None, None, 5)      120         input_1[0][0]                    \n",
      "__________________________________________________________________________________________________\n",
      "add (Add)                       (None, 70, 5)        0           activation[0][0]                 \n",
      "                                                                 sequential_1[0][0]               \n",
      "__________________________________________________________________________________________________\n",
      "permute (Permute)               (None, 5, 70)        0           add[0][0]                        \n",
      "__________________________________________________________________________________________________\n",
      "concatenate (Concatenate)       (None, 5, 120)       0           permute[0][0]                    \n",
      "                                                                 sequential_2[0][0]               \n",
      "__________________________________________________________________________________________________\n",
      "lstm (LSTM)                     (None, 64)           47360       concatenate[0][0]                \n",
      "__________________________________________________________________________________________________\n",
      "dropout_3 (Dropout)             (None, 64)           0           lstm[0][0]                       \n",
      "__________________________________________________________________________________________________\n",
      "dense (Dense)                   (None, 24)           1560        dropout_3[0][0]                  \n",
      "__________________________________________________________________________________________________\n",
      "activation_1 (Activation)       (None, 24)           0           dense[0][0]                      \n",
      "==================================================================================================\n",
      "Total params: 51,440\n",
      "Trainable params: 51,440\n",
      "Non-trainable params: 0\n",
      "__________________________________________________________________________________________________\n",
      "None\n",
      "Epoch 1/120\n",
      "313/313 [==============================] - 6s 10ms/step - loss: 2.0227 - acc: 0.1656 - val_loss: 1.7461 - val_acc: 0.2270\n",
      "Epoch 2/120\n",
      "313/313 [==============================] - 2s 7ms/step - loss: 1.7086 - acc: 0.2464 - val_loss: 1.6257 - val_acc: 0.2690\n",
      "Epoch 3/120\n",
      "313/313 [==============================] - 2s 7ms/step - loss: 1.6320 - acc: 0.2944 - val_loss: 1.5693 - val_acc: 0.3650\n",
      "Epoch 4/120\n",
      "313/313 [==============================] - 2s 7ms/step - loss: 1.5316 - acc: 0.3765 - val_loss: 1.4554 - val_acc: 0.4400\n",
      "Epoch 5/120\n",
      "313/313 [==============================] - 2s 6ms/step - loss: 1.4941 - acc: 0.4008 - val_loss: 1.4381 - val_acc: 0.4610\n",
      "Epoch 6/120\n",
      "313/313 [==============================] - 2s 7ms/step - loss: 1.4722 - acc: 0.4300 - val_loss: 1.3946 - val_acc: 0.4700\n",
      "Epoch 7/120\n",
      "313/313 [==============================] - 2s 7ms/step - loss: 1.4143 - acc: 0.4662 - val_loss: 1.3336 - val_acc: 0.5150\n",
      "Epoch 8/120\n",
      "313/313 [==============================] - 2s 7ms/step - loss: 1.3454 - acc: 0.4992 - val_loss: 1.3165 - val_acc: 0.5220\n",
      "Epoch 9/120\n",
      "313/313 [==============================] - 2s 7ms/step - loss: 1.3053 - acc: 0.5085 - val_loss: 1.2606 - val_acc: 0.5360\n",
      "Epoch 10/120\n",
      "313/313 [==============================] - 2s 7ms/step - loss: 1.2759 - acc: 0.5241 - val_loss: 1.2428 - val_acc: 0.5350\n",
      "Epoch 11/120\n",
      "313/313 [==============================] - 2s 7ms/step - loss: 1.2393 - acc: 0.5256 - val_loss: 1.2708 - val_acc: 0.5250\n",
      "Epoch 12/120\n",
      "313/313 [==============================] - 2s 7ms/step - loss: 1.2553 - acc: 0.5113 - val_loss: 1.2530 - val_acc: 0.5330\n",
      "Epoch 13/120\n",
      "313/313 [==============================] - 2s 7ms/step - loss: 1.2123 - acc: 0.5295 - val_loss: 1.2523 - val_acc: 0.5180\n",
      "Epoch 14/120\n",
      "313/313 [==============================] - 2s 7ms/step - loss: 1.1920 - acc: 0.5273 - val_loss: 1.2063 - val_acc: 0.5370\n",
      "Epoch 15/120\n",
      "313/313 [==============================] - 2s 7ms/step - loss: 1.1876 - acc: 0.5273 - val_loss: 1.2223 - val_acc: 0.5300\n",
      "Epoch 16/120\n",
      "313/313 [==============================] - 2s 7ms/step - loss: 1.1971 - acc: 0.5187 - val_loss: 1.2349 - val_acc: 0.5320\n",
      "Epoch 17/120\n",
      "313/313 [==============================] - 2s 7ms/step - loss: 1.1589 - acc: 0.5451 - val_loss: 1.1997 - val_acc: 0.5270\n",
      "Epoch 18/120\n",
      "313/313 [==============================] - 2s 7ms/step - loss: 1.1534 - acc: 0.5424 - val_loss: 1.1982 - val_acc: 0.5510\n",
      "Epoch 19/120\n",
      "313/313 [==============================] - 2s 7ms/step - loss: 1.1366 - acc: 0.5612 - val_loss: 1.1404 - val_acc: 0.5890\n",
      "Epoch 20/120\n",
      "313/313 [==============================] - 2s 7ms/step - loss: 1.0779 - acc: 0.5910 - val_loss: 1.1198 - val_acc: 0.5890\n",
      "Epoch 21/120\n",
      "313/313 [==============================] - 2s 7ms/step - loss: 1.0642 - acc: 0.6154 - val_loss: 1.0596 - val_acc: 0.6250\n",
      "Epoch 22/120\n",
      "313/313 [==============================] - 2s 7ms/step - loss: 1.0336 - acc: 0.6142 - val_loss: 1.0091 - val_acc: 0.6380\n",
      "Epoch 23/120\n",
      "313/313 [==============================] - 2s 7ms/step - loss: 0.9565 - acc: 0.6522 - val_loss: 0.9866 - val_acc: 0.6490\n",
      "Epoch 24/120\n",
      "313/313 [==============================] - 2s 7ms/step - loss: 0.9154 - acc: 0.6679 - val_loss: 0.9054 - val_acc: 0.6980\n",
      "Epoch 25/120\n",
      "313/313 [==============================] - 2s 7ms/step - loss: 0.8541 - acc: 0.7013 - val_loss: 0.8577 - val_acc: 0.7030\n",
      "Epoch 26/120\n",
      "313/313 [==============================] - 2s 7ms/step - loss: 0.7702 - acc: 0.7240 - val_loss: 0.7517 - val_acc: 0.7360\n",
      "Epoch 27/120\n",
      "313/313 [==============================] - 2s 6ms/step - loss: 0.7211 - acc: 0.7510 - val_loss: 0.7181 - val_acc: 0.7500\n",
      "Epoch 28/120\n",
      "313/313 [==============================] - 2s 7ms/step - loss: 0.6559 - acc: 0.7718 - val_loss: 0.6791 - val_acc: 0.7620\n",
      "Epoch 29/120\n",
      "313/313 [==============================] - 2s 6ms/step - loss: 0.6257 - acc: 0.7816 - val_loss: 0.6612 - val_acc: 0.7680\n",
      "Epoch 30/120\n",
      "313/313 [==============================] - 2s 7ms/step - loss: 0.5839 - acc: 0.7904 - val_loss: 0.6405 - val_acc: 0.7770\n",
      "Epoch 31/120\n",
      "313/313 [==============================] - 2s 7ms/step - loss: 0.5821 - acc: 0.7897 - val_loss: 0.6170 - val_acc: 0.7800\n",
      "Epoch 32/120\n",
      "313/313 [==============================] - 2s 6ms/step - loss: 0.5476 - acc: 0.8032 - val_loss: 0.6189 - val_acc: 0.7800\n",
      "Epoch 33/120\n",
      "313/313 [==============================] - 2s 7ms/step - loss: 0.5289 - acc: 0.8155 - val_loss: 0.5860 - val_acc: 0.7830\n",
      "Epoch 34/120\n",
      "313/313 [==============================] - 3s 8ms/step - loss: 0.5146 - acc: 0.8135 - val_loss: 0.5980 - val_acc: 0.7800\n",
      "Epoch 35/120\n",
      "313/313 [==============================] - 2s 7ms/step - loss: 0.4958 - acc: 0.8245 - val_loss: 0.5757 - val_acc: 0.8070\n",
      "Epoch 36/120\n",
      "313/313 [==============================] - 2s 7ms/step - loss: 0.4765 - acc: 0.8277 - val_loss: 0.5814 - val_acc: 0.8050\n",
      "Epoch 37/120\n",
      "313/313 [==============================] - 2s 7ms/step - loss: 0.4820 - acc: 0.8308 - val_loss: 0.5449 - val_acc: 0.8090\n",
      "Epoch 38/120\n",
      "313/313 [==============================] - 2s 7ms/step - loss: 0.4464 - acc: 0.8424 - val_loss: 0.5357 - val_acc: 0.8110\n",
      "Epoch 39/120\n",
      "313/313 [==============================] - 2s 7ms/step - loss: 0.4438 - acc: 0.8414 - val_loss: 0.5186 - val_acc: 0.8140\n",
      "Epoch 40/120\n",
      "313/313 [==============================] - 2s 7ms/step - loss: 0.4313 - acc: 0.8499 - val_loss: 0.5244 - val_acc: 0.8140\n",
      "Epoch 41/120\n",
      "313/313 [==============================] - 2s 7ms/step - loss: 0.4225 - acc: 0.8507 - val_loss: 0.5091 - val_acc: 0.8180\n",
      "Epoch 42/120\n",
      "313/313 [==============================] - 2s 7ms/step - loss: 0.4128 - acc: 0.8571 - val_loss: 0.5083 - val_acc: 0.8140\n",
      "Epoch 43/120\n",
      "313/313 [==============================] - 2s 7ms/step - loss: 0.3841 - acc: 0.8642 - val_loss: 0.5129 - val_acc: 0.8040\n",
      "Epoch 44/120\n",
      "313/313 [==============================] - 2s 7ms/step - loss: 0.3860 - acc: 0.8670 - val_loss: 0.4731 - val_acc: 0.8320\n",
      "Epoch 45/120\n",
      "313/313 [==============================] - 2s 7ms/step - loss: 0.3551 - acc: 0.8749 - val_loss: 0.4699 - val_acc: 0.8330\n",
      "Epoch 46/120\n",
      "313/313 [==============================] - 2s 7ms/step - loss: 0.3524 - acc: 0.8689 - val_loss: 0.4833 - val_acc: 0.8270\n",
      "Epoch 47/120\n",
      "313/313 [==============================] - 2s 7ms/step - loss: 0.3667 - acc: 0.8694 - val_loss: 0.4659 - val_acc: 0.8270\n",
      "Epoch 48/120\n",
      "313/313 [==============================] - 2s 7ms/step - loss: 0.3441 - acc: 0.8791 - val_loss: 0.4784 - val_acc: 0.8300\n",
      "Epoch 49/120\n",
      "313/313 [==============================] - 3s 8ms/step - loss: 0.3290 - acc: 0.8826 - val_loss: 0.4881 - val_acc: 0.8390\n",
      "Epoch 50/120\n",
      "313/313 [==============================] - 2s 7ms/step - loss: 0.3431 - acc: 0.8743 - val_loss: 0.4537 - val_acc: 0.8380\n",
      "Epoch 51/120\n",
      "313/313 [==============================] - 2s 7ms/step - loss: 0.3130 - acc: 0.8876 - val_loss: 0.4458 - val_acc: 0.8400\n",
      "Epoch 52/120\n",
      "313/313 [==============================] - 2s 7ms/step - loss: 0.3227 - acc: 0.8855 - val_loss: 0.4705 - val_acc: 0.8410\n",
      "Epoch 53/120\n",
      "313/313 [==============================] - 3s 8ms/step - loss: 0.3047 - acc: 0.8885 - val_loss: 0.4484 - val_acc: 0.8440\n",
      "Epoch 54/120\n",
      "313/313 [==============================] - 2s 7ms/step - loss: 0.2956 - acc: 0.8916 - val_loss: 0.4668 - val_acc: 0.8340\n",
      "Epoch 55/120\n",
      "313/313 [==============================] - 2s 7ms/step - loss: 0.2964 - acc: 0.8896 - val_loss: 0.4803 - val_acc: 0.8390\n",
      "Epoch 56/120\n",
      "313/313 [==============================] - 2s 7ms/step - loss: 0.2903 - acc: 0.8908 - val_loss: 0.4681 - val_acc: 0.8440\n",
      "Epoch 57/120\n",
      "313/313 [==============================] - 2s 7ms/step - loss: 0.2829 - acc: 0.8990 - val_loss: 0.5137 - val_acc: 0.8310\n",
      "Epoch 58/120\n",
      "313/313 [==============================] - 2s 7ms/step - loss: 0.2634 - acc: 0.9074 - val_loss: 0.4528 - val_acc: 0.8460\n",
      "Epoch 59/120\n",
      "313/313 [==============================] - 2s 7ms/step - loss: 0.2592 - acc: 0.9061 - val_loss: 0.4413 - val_acc: 0.8430\n",
      "Epoch 60/120\n",
      "313/313 [==============================] - 2s 7ms/step - loss: 0.2745 - acc: 0.9023 - val_loss: 0.5076 - val_acc: 0.8350\n",
      "Epoch 61/120\n",
      "313/313 [==============================] - 2s 7ms/step - loss: 0.2687 - acc: 0.9053 - val_loss: 0.5064 - val_acc: 0.8420\n",
      "Epoch 62/120\n",
      "313/313 [==============================] - 2s 8ms/step - loss: 0.2547 - acc: 0.9125 - val_loss: 0.4644 - val_acc: 0.8440\n",
      "Epoch 63/120\n",
      "313/313 [==============================] - 2s 7ms/step - loss: 0.2512 - acc: 0.9100 - val_loss: 0.4843 - val_acc: 0.8430\n",
      "Epoch 64/120\n",
      "313/313 [==============================] - 2s 7ms/step - loss: 0.2459 - acc: 0.9147 - val_loss: 0.4726 - val_acc: 0.8370\n",
      "Epoch 65/120\n",
      "313/313 [==============================] - 2s 7ms/step - loss: 0.2360 - acc: 0.9186 - val_loss: 0.4701 - val_acc: 0.8440\n",
      "Epoch 66/120\n",
      "313/313 [==============================] - 2s 7ms/step - loss: 0.2260 - acc: 0.9150 - val_loss: 0.4803 - val_acc: 0.8460\n",
      "Epoch 67/120\n",
      "313/313 [==============================] - 2s 7ms/step - loss: 0.2254 - acc: 0.9203 - val_loss: 0.4972 - val_acc: 0.8380\n",
      "Epoch 68/120\n",
      "313/313 [==============================] - 2s 7ms/step - loss: 0.2188 - acc: 0.9233 - val_loss: 0.4824 - val_acc: 0.8440\n",
      "Epoch 69/120\n",
      "313/313 [==============================] - 2s 7ms/step - loss: 0.2302 - acc: 0.9149 - val_loss: 0.4841 - val_acc: 0.8440\n",
      "Epoch 70/120\n",
      "313/313 [==============================] - 2s 7ms/step - loss: 0.2232 - acc: 0.9224 - val_loss: 0.4901 - val_acc: 0.8380\n",
      "Epoch 71/120\n",
      "313/313 [==============================] - 2s 7ms/step - loss: 0.1983 - acc: 0.9276 - val_loss: 0.5153 - val_acc: 0.8420\n",
      "Epoch 72/120\n",
      "313/313 [==============================] - 2s 7ms/step - loss: 0.1984 - acc: 0.9319 - val_loss: 0.4721 - val_acc: 0.8510\n",
      "Epoch 73/120\n",
      "313/313 [==============================] - 2s 7ms/step - loss: 0.1903 - acc: 0.9296 - val_loss: 0.5017 - val_acc: 0.8410\n",
      "Epoch 74/120\n",
      "313/313 [==============================] - 2s 7ms/step - loss: 0.1935 - acc: 0.9315 - val_loss: 0.5417 - val_acc: 0.8390\n",
      "Epoch 75/120\n",
      "313/313 [==============================] - 2s 7ms/step - loss: 0.1892 - acc: 0.9323 - val_loss: 0.5041 - val_acc: 0.8350\n",
      "Epoch 76/120\n",
      "313/313 [==============================] - 2s 7ms/step - loss: 0.1909 - acc: 0.9306 - val_loss: 0.4909 - val_acc: 0.8420\n",
      "Epoch 77/120\n",
      "313/313 [==============================] - 2s 7ms/step - loss: 0.1932 - acc: 0.9297 - val_loss: 0.5283 - val_acc: 0.8470\n",
      "Epoch 78/120\n",
      "313/313 [==============================] - 2s 6ms/step - loss: 0.1783 - acc: 0.9355 - val_loss: 0.5088 - val_acc: 0.8490\n",
      "Epoch 79/120\n",
      "313/313 [==============================] - 2s 7ms/step - loss: 0.1783 - acc: 0.9361 - val_loss: 0.5403 - val_acc: 0.8450\n",
      "Epoch 80/120\n",
      "313/313 [==============================] - 2s 7ms/step - loss: 0.1738 - acc: 0.9400 - val_loss: 0.5351 - val_acc: 0.8370\n",
      "Epoch 81/120\n",
      "313/313 [==============================] - 2s 7ms/step - loss: 0.1693 - acc: 0.9425 - val_loss: 0.5055 - val_acc: 0.8480\n",
      "Epoch 82/120\n",
      "313/313 [==============================] - 2s 7ms/step - loss: 0.1596 - acc: 0.9438 - val_loss: 0.5319 - val_acc: 0.8430\n",
      "Epoch 83/120\n",
      "313/313 [==============================] - 2s 7ms/step - loss: 0.1677 - acc: 0.9412 - val_loss: 0.5258 - val_acc: 0.8460\n",
      "Epoch 84/120\n",
      "313/313 [==============================] - 2s 7ms/step - loss: 0.1485 - acc: 0.9467 - val_loss: 0.5585 - val_acc: 0.8340\n",
      "Epoch 85/120\n",
      "313/313 [==============================] - 2s 7ms/step - loss: 0.1515 - acc: 0.9470 - val_loss: 0.5308 - val_acc: 0.8420\n",
      "Epoch 86/120\n",
      "313/313 [==============================] - 2s 7ms/step - loss: 0.1484 - acc: 0.9468 - val_loss: 0.5458 - val_acc: 0.8440\n",
      "Epoch 87/120\n",
      "313/313 [==============================] - 2s 7ms/step - loss: 0.1393 - acc: 0.9512 - val_loss: 0.5602 - val_acc: 0.8370\n",
      "Epoch 88/120\n",
      "313/313 [==============================] - 2s 7ms/step - loss: 0.1347 - acc: 0.9538 - val_loss: 0.5625 - val_acc: 0.8360\n",
      "Epoch 89/120\n",
      "313/313 [==============================] - 2s 7ms/step - loss: 0.1364 - acc: 0.9521 - val_loss: 0.5732 - val_acc: 0.8380\n",
      "Epoch 90/120\n",
      "313/313 [==============================] - 2s 7ms/step - loss: 0.1377 - acc: 0.9537 - val_loss: 0.5682 - val_acc: 0.8400\n",
      "Epoch 91/120\n",
      "313/313 [==============================] - 2s 7ms/step - loss: 0.1208 - acc: 0.9626 - val_loss: 0.5495 - val_acc: 0.8480\n",
      "Epoch 92/120\n",
      "313/313 [==============================] - 2s 6ms/step - loss: 0.1291 - acc: 0.9548 - val_loss: 0.5655 - val_acc: 0.8410\n",
      "Epoch 93/120\n",
      "313/313 [==============================] - 2s 7ms/step - loss: 0.1148 - acc: 0.9601 - val_loss: 0.5460 - val_acc: 0.8450\n",
      "Epoch 94/120\n",
      "313/313 [==============================] - 2s 7ms/step - loss: 0.1289 - acc: 0.9571 - val_loss: 0.5458 - val_acc: 0.8430\n",
      "Epoch 95/120\n",
      "313/313 [==============================] - 2s 6ms/step - loss: 0.1227 - acc: 0.9545 - val_loss: 0.5797 - val_acc: 0.8350\n",
      "Epoch 96/120\n",
      "313/313 [==============================] - 3s 9ms/step - loss: 0.1154 - acc: 0.9591 - val_loss: 0.6024 - val_acc: 0.8380\n",
      "Epoch 97/120\n",
      "313/313 [==============================] - 2s 6ms/step - loss: 0.1153 - acc: 0.9614 - val_loss: 0.6593 - val_acc: 0.8380\n",
      "Epoch 98/120\n",
      "313/313 [==============================] - 2s 7ms/step - loss: 0.1137 - acc: 0.9623 - val_loss: 0.5982 - val_acc: 0.8400\n",
      "Epoch 99/120\n",
      "313/313 [==============================] - 2s 7ms/step - loss: 0.1176 - acc: 0.9615 - val_loss: 0.5835 - val_acc: 0.8380\n",
      "Epoch 100/120\n",
      "313/313 [==============================] - 2s 7ms/step - loss: 0.1072 - acc: 0.9646 - val_loss: 0.6717 - val_acc: 0.8340\n",
      "Epoch 101/120\n",
      "313/313 [==============================] - 2s 6ms/step - loss: 0.1076 - acc: 0.9642 - val_loss: 0.5996 - val_acc: 0.8350\n",
      "Epoch 102/120\n",
      "313/313 [==============================] - 2s 6ms/step - loss: 0.1178 - acc: 0.9591 - val_loss: 0.6113 - val_acc: 0.8360\n",
      "Epoch 103/120\n",
      "313/313 [==============================] - 2s 7ms/step - loss: 0.1011 - acc: 0.9670 - val_loss: 0.6551 - val_acc: 0.8400\n",
      "Epoch 104/120\n",
      "313/313 [==============================] - 2s 7ms/step - loss: 0.0945 - acc: 0.9690 - val_loss: 0.7485 - val_acc: 0.8250\n",
      "Epoch 105/120\n",
      "313/313 [==============================] - 2s 7ms/step - loss: 0.1038 - acc: 0.9644 - val_loss: 0.6257 - val_acc: 0.8440\n",
      "Epoch 106/120\n",
      "313/313 [==============================] - 2s 7ms/step - loss: 0.0981 - acc: 0.9639 - val_loss: 0.6331 - val_acc: 0.8440\n",
      "Epoch 107/120\n",
      "313/313 [==============================] - 2s 7ms/step - loss: 0.1071 - acc: 0.9616 - val_loss: 0.6647 - val_acc: 0.8310\n",
      "Epoch 108/120\n",
      "313/313 [==============================] - 2s 6ms/step - loss: 0.0913 - acc: 0.9682 - val_loss: 0.6441 - val_acc: 0.8420\n",
      "Epoch 109/120\n",
      "313/313 [==============================] - 2s 7ms/step - loss: 0.0900 - acc: 0.9696 - val_loss: 0.6371 - val_acc: 0.8400\n",
      "Epoch 110/120\n",
      "313/313 [==============================] - 2s 6ms/step - loss: 0.0896 - acc: 0.9696 - val_loss: 0.6562 - val_acc: 0.8380\n",
      "Epoch 111/120\n",
      "313/313 [==============================] - 3s 10ms/step - loss: 0.0820 - acc: 0.9734 - val_loss: 0.6535 - val_acc: 0.8420\n",
      "Epoch 112/120\n",
      "313/313 [==============================] - 2s 7ms/step - loss: 0.0807 - acc: 0.9721 - val_loss: 0.6983 - val_acc: 0.8340\n",
      "Epoch 113/120\n",
      "313/313 [==============================] - 2s 7ms/step - loss: 0.0901 - acc: 0.9706 - val_loss: 0.6819 - val_acc: 0.8350\n",
      "Epoch 114/120\n",
      "313/313 [==============================] - 2s 7ms/step - loss: 0.0857 - acc: 0.9704 - val_loss: 0.7148 - val_acc: 0.8330\n",
      "Epoch 115/120\n",
      "313/313 [==============================] - 2s 7ms/step - loss: 0.0824 - acc: 0.9705 - val_loss: 0.8131 - val_acc: 0.8270\n",
      "Epoch 116/120\n",
      "313/313 [==============================] - 2s 7ms/step - loss: 0.0966 - acc: 0.9683 - val_loss: 0.6939 - val_acc: 0.8300\n",
      "Epoch 117/120\n",
      "313/313 [==============================] - 2s 8ms/step - loss: 0.0832 - acc: 0.9720 - val_loss: 0.6421 - val_acc: 0.8390\n",
      "Epoch 118/120\n",
      "313/313 [==============================] - 2s 7ms/step - loss: 0.0773 - acc: 0.9708 - val_loss: 0.6999 - val_acc: 0.8330\n",
      "Epoch 119/120\n",
      "313/313 [==============================] - 2s 7ms/step - loss: 0.0947 - acc: 0.9705 - val_loss: 0.6952 - val_acc: 0.8470\n",
      "Epoch 120/120\n",
      "313/313 [==============================] - 2s 7ms/step - loss: 0.0699 - acc: 0.9774 - val_loss: 0.6504 - val_acc: 0.8450\n"
     ]
    }
   ],
   "source": [
    "# build the final model\n",
    "model = Model([input_sequence, question], answer)\n",
    "model.compile(optimizer='rmsprop', loss='categorical_crossentropy',\n",
    "              metrics=['acc'])\n",
    "\n",
    "print(model.summary())\n",
    "\n",
    "# start training the model\n",
    "history = model.fit([Xstrain, Xqtrain],\n",
    "         Ytrain, batch_size, train_epochs,\n",
    "         validation_data=([Xstest, Xqtest], Ytest))\n",
    "\n",
    "# save model\n",
    "model.save('model.h5')"
   ]
  },
  {
   "cell_type": "code",
   "execution_count": 42,
   "id": "aggregate-arkansas",
   "metadata": {},
   "outputs": [
    {
     "data": {
      "image/png": "[encoded data removed]",
      "text/plain": [
       "<Figure size 432x288 with 2 Axes>"
      ]
     },
     "metadata": {
      "needs_background": "light"
     },
     "output_type": "display_data"
    }
   ],
   "source": [
    "# plot accuracy and loss plot\n",
    "plt.subplot(211)\n",
    "plt.title(\"Accuracy\")\n",
    "plt.plot(history.history[\"acc\"], color=\"g\", label=\"train\")\n",
    "plt.plot(history.history[\"val_acc\"], color=\"b\", label=\"validation\")\n",
    "plt.legend(loc=\"best\")\n",
    "\n",
    "plt.subplot(212)\n",
    "plt.title(\"Loss\")\n",
    "plt.plot(history.history[\"loss\"], color=\"g\", label=\"train\")\n",
    "plt.plot(history.history[\"val_loss\"], color=\"b\", label=\"validation\")\n",
    "plt.legend(loc=\"best\")\n",
    "\n",
    "plt.tight_layout()\n",
    "plt.show()\n",
    "\n",
    "# labels\n",
    "ytest = np.argmax(Ytest, axis=1)\n",
    "\n",
    "# get predictions\n",
    "Ytest_ = model.predict([Xstest, Xqtest])\n",
    "ytest_ = np.argmax(Ytest_, axis=1)"
   ]
  },
  {
   "cell_type": "code",
   "execution_count": 43,
   "id": "solar-applicant",
   "metadata": {},
   "outputs": [
    {
     "name": "stdout",
     "output_type": "stream",
     "text": [
      "질문                |실제값  |예측값\n",
      "---------------------------------------\n",
      "은경이 는 어디 야 ?        : 복도      복도\n",
      "필웅이 는 어디 야 ?        : 화장실     화장실\n",
      "경임이 는 어디 야 ?        : 부엌      부엌\n",
      "경임이 는 어디 야 ?        : 복도      복도\n",
      "경임이 는 어디 야 ?        : 부엌      부엌\n",
      "경임이 는 어디 야 ?        : 복도      복도\n",
      "경임이 는 어디 야 ?        : 정원      정원\n",
      "수종이 는 어디 야 ?        : 복도      복도\n",
      "경임이 는 어디 야 ?        : 사무실     화장실\n",
      "수종이 는 어디 야 ?        : 사무실     복도\n",
      "필웅이 는 어디 야 ?        : 부엌      부엌\n",
      "필웅이 는 어디 야 ?        : 정원      정원\n",
      "수종이 는 어디 야 ?        : 사무실     사무실\n",
      "필웅이 는 어디 야 ?        : 침실      침실\n",
      "필웅이 는 어디 야 ?        : 침실      정원\n",
      "은경이 는 어디 야 ?        : 부엌      부엌\n",
      "은경이 는 어디 야 ?        : 정원      정원\n",
      "은경이 는 어디 야 ?        : 부엌      부엌\n",
      "수종이 는 어디 야 ?        : 사무실     부엌\n",
      "은경이 는 어디 야 ?        : 부엌      복도\n",
      "필웅이 는 어디 야 ?        : 복도      복도\n",
      "은경이 는 어디 야 ?        : 사무실     사무실\n",
      "은경이 는 어디 야 ?        : 사무실     사무실\n",
      "경임이 는 어디 야 ?        : 복도      복도\n",
      "수종이 는 어디 야 ?        : 침실      정원\n",
      "경임이 는 어디 야 ?        : 침실      침실\n",
      "필웅이 는 어디 야 ?        : 침실      침실\n",
      "수종이 는 어디 야 ?        : 부엌      부엌\n",
      "수종이 는 어디 야 ?        : 부엌      부엌\n",
      "수종이 는 어디 야 ?        : 부엌      복도\n"
     ]
    }
   ],
   "source": [
    "NUM_DISPLAY = 30\n",
    "\n",
    "print(\"{:18}|{:5}|{}\".format(\"질문\", \"실제값\", \"예측값\"))\n",
    "print(39 * \"-\")\n",
    "\n",
    "for i in range(NUM_DISPLAY):\n",
    "    question = \" \".join([idx2word[x] for x in Xqtest[i].tolist()])\n",
    "    label = idx2word[ytest[i]]\n",
    "    prediction = idx2word[ytest_[i]]\n",
    "    print(\"{:20}: {:7} {}\".format(question, label, prediction))"
   ]
  },
  {
   "cell_type": "code",
   "execution_count": null,
   "id": "historic-layout",
   "metadata": {},
   "outputs": [],
   "source": []
  }
 ],
 "metadata": {
  "kernelspec": {
   "display_name": "Python 3",
   "language": "python",
   "name": "python3"
  },
  "language_info": {
   "codemirror_mode": {
    "name": "ipython",
    "version": 3
   },
   "file_extension": ".py",
   "mimetype": "text/x-python",
   "name": "python",
   "nbconvert_exporter": "python",
   "pygments_lexer": "ipython3",
   "version": "3.8.7"
  }
 },
 "nbformat": 4,
 "nbformat_minor": 5
}
